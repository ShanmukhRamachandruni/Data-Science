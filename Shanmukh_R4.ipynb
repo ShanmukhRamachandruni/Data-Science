{
  "nbformat": 4,
  "nbformat_minor": 0,
  "metadata": {
    "colab": {
      "name": "Shanmukh R4.ipynb",
      "provenance": [],
      "collapsed_sections": [],
      "authorship_tag": "ABX9TyNn3ItxPGWfJChvtfycydHL",
      "include_colab_link": true
    },
    "kernelspec": {
      "name": "python3",
      "display_name": "Python 3"
    },
    "language_info": {
      "name": "python"
    }
  },
  "cells": [
    {
      "cell_type": "markdown",
      "metadata": {
        "id": "view-in-github",
        "colab_type": "text"
      },
      "source": [
        "<a href=\"https://colab.research.google.com/github/ShanmukhRamachandruni/Data-Science/blob/main/Shanmukh_R4.ipynb\" target=\"_parent\"><img src=\"https://colab.research.google.com/assets/colab-badge.svg\" alt=\"Open In Colab\"/></a>"
      ]
    },
    {
      "cell_type": "code",
      "execution_count": null,
      "metadata": {
        "id": "a1olyLUfHVs7",
        "colab": {
          "base_uri": "https://localhost:8080/"
        },
        "outputId": "a636d500-934c-4d31-a946-45b3314d40e1"
      },
      "outputs": [
        {
          "output_type": "stream",
          "name": "stdout",
          "text": [
            "The rpy2.ipython extension is already loaded. To reload it, use:\n",
            "  %reload_ext rpy2.ipython\n"
          ]
        }
      ],
      "source": [
        "  %load_ext rpy2.ipython"
      ]
    },
    {
      "cell_type": "code",
      "source": [
        "#samlple for simple linear regression\n",
        "%%R\n",
        "library(readr)\n",
        "library(dplyr)\n",
        "library(tidyr)\n",
        "library(ggplot2)"
      ],
      "metadata": {
        "id": "GS_NBuTlHo3Y"
      },
      "execution_count": null,
      "outputs": []
    },
    {
      "cell_type": "code",
      "source": [
        "%%R\n",
        "salary=read_csv(\"/content/Salary_Data.csv\")"
      ],
      "metadata": {
        "colab": {
          "base_uri": "https://localhost:8080/"
        },
        "id": "OgBt2kfcH5Qe",
        "outputId": "fbcb5fe3-0750-4056-f4b3-d588c872c9e0"
      },
      "execution_count": null,
      "outputs": [
        {
          "output_type": "stream",
          "name": "stdout",
          "text": [
            "Rows: 30 Columns: 2\n",
            "── Column specification ────────────────────────────────────────────────────────\n",
            "Delimiter: \",\"\n",
            "dbl (2): YearsExperience, Salary\n",
            "\n",
            "ℹ Use `spec()` to retrieve the full column specification for this data.\n",
            "ℹ Specify the column types or set `show_col_types = FALSE` to quiet this message.\n"
          ]
        }
      ]
    },
    {
      "cell_type": "code",
      "source": [
        "%%R\n",
        "salary"
      ],
      "metadata": {
        "colab": {
          "base_uri": "https://localhost:8080/"
        },
        "id": "SbnOAGusIogC",
        "outputId": "84deffb2-a0d5-4274-fbfb-c42a1eedc03e"
      },
      "execution_count": null,
      "outputs": [
        {
          "output_type": "stream",
          "name": "stdout",
          "text": [
            "# A tibble: 30 × 2\n",
            "   YearsExperience Salary\n",
            "             <dbl>  <dbl>\n",
            " 1             1.1  39343\n",
            " 2             1.3  46205\n",
            " 3             1.5  37731\n",
            " 4             2    43525\n",
            " 5             2.2  39891\n",
            " 6             2.9  56642\n",
            " 7             3    60150\n",
            " 8             3.2  54445\n",
            " 9             3.2  64445\n",
            "10             3.7  57189\n",
            "# … with 20 more rows\n"
          ]
        }
      ]
    },
    {
      "cell_type": "code",
      "source": [
        "%%R\n",
        "print(salary$YearsExperience)\n",
        "\n",
        "print(salary$Salary)"
      ],
      "metadata": {
        "colab": {
          "base_uri": "https://localhost:8080/"
        },
        "id": "dER3nojGJG7W",
        "outputId": "d777f034-0927-4df0-c3b7-3b719303954e"
      },
      "execution_count": null,
      "outputs": [
        {
          "output_type": "stream",
          "name": "stdout",
          "text": [
            " [1]  1.1  1.3  1.5  2.0  2.2  2.9  3.0  3.2  3.2  3.7  3.9  4.0  4.0  4.1  4.5\n",
            "[16]  4.9  5.1  5.3  5.9  6.0  6.8  7.1  7.9  8.2  8.7  9.0  9.5  9.6 10.3 10.5\n",
            " [1]  39343  46205  37731  43525  39891  56642  60150  54445  64445  57189\n",
            "[11]  63218  55794  56957  57081  61111  67938  66029  83088  81363  93940\n",
            "[21]  91738  98273 101302 113812 109431 105582 116969 112635 122391 121872\n"
          ]
        }
      ]
    },
    {
      "cell_type": "code",
      "source": [
        "%%R\n",
        "cor(salary$Salary, salary$YearsExperience)"
      ],
      "metadata": {
        "colab": {
          "base_uri": "https://localhost:8080/"
        },
        "id": "68Uh0aOjJyDb",
        "outputId": "3b282e5e-1e2d-4ed0-afe4-9e8874e88ddc"
      },
      "execution_count": null,
      "outputs": [
        {
          "output_type": "stream",
          "name": "stdout",
          "text": [
            "[1] 0.9782416\n"
          ]
        }
      ]
    },
    {
      "cell_type": "code",
      "source": [
        "%%R\n",
        "relation<-lm(salary$Salary~salary$YearsExperience)\n",
        "print(relation)"
      ],
      "metadata": {
        "colab": {
          "base_uri": "https://localhost:8080/"
        },
        "id": "8AqYbhYuKXEk",
        "outputId": "53e7a7fb-0dde-4a57-b773-bcc52ad652eb"
      },
      "execution_count": null,
      "outputs": [
        {
          "output_type": "stream",
          "name": "stdout",
          "text": [
            "\n",
            "Call:\n",
            "lm(formula = salary$Salary ~ salary$YearsExperience)\n",
            "\n",
            "Coefficients:\n",
            "           (Intercept)  salary$YearsExperience  \n",
            "                 25792                    9450  \n",
            "\n"
          ]
        }
      ]
    },
    {
      "cell_type": "code",
      "source": [
        "%%R\n",
        "summary(relation)"
      ],
      "metadata": {
        "colab": {
          "base_uri": "https://localhost:8080/"
        },
        "id": "SfpLhP9mLt3W",
        "outputId": "3c35f8da-49c4-4709-eeb2-3af672bd404e"
      },
      "execution_count": null,
      "outputs": [
        {
          "output_type": "stream",
          "name": "stdout",
          "text": [
            "\n",
            "Call:\n",
            "lm(formula = salary$Salary ~ salary$YearsExperience)\n",
            "\n",
            "Residuals:\n",
            "    Min      1Q  Median      3Q     Max \n",
            "-7958.0 -4088.5  -459.9  3372.6 11448.0 \n",
            "\n",
            "Coefficients:\n",
            "                       Estimate Std. Error t value Pr(>|t|)    \n",
            "(Intercept)             25792.2     2273.1   11.35 5.51e-12 ***\n",
            "salary$YearsExperience   9450.0      378.8   24.95  < 2e-16 ***\n",
            "---\n",
            "Signif. codes:  0 ‘***’ 0.001 ‘**’ 0.01 ‘*’ 0.05 ‘.’ 0.1 ‘ ’ 1\n",
            "\n",
            "Residual standard error: 5788 on 28 degrees of freedom\n",
            "Multiple R-squared:  0.957,\tAdjusted R-squared:  0.9554 \n",
            "F-statistic: 622.5 on 1 and 28 DF,  p-value: < 2.2e-16\n",
            "\n"
          ]
        }
      ]
    },
    {
      "cell_type": "code",
      "source": [
        "%%R\n",
        "print(coefficients(relation))"
      ],
      "metadata": {
        "colab": {
          "base_uri": "https://localhost:8080/"
        },
        "id": "at930QYeMYLo",
        "outputId": "bdd706be-c5eb-4731-bf82-d8f8156be51b"
      },
      "execution_count": null,
      "outputs": [
        {
          "output_type": "stream",
          "name": "stdout",
          "text": [
            "           (Intercept) salary$YearsExperience \n",
            "             25792.200               9449.962 \n"
          ]
        }
      ]
    },
    {
      "cell_type": "code",
      "source": [
        "%%R\n",
        "names(relation)"
      ],
      "metadata": {
        "colab": {
          "base_uri": "https://localhost:8080/"
        },
        "id": "YUqcQt5nMkbp",
        "outputId": "3c5d4e96-125b-45ba-96f7-ff4c7eeef5d7"
      },
      "execution_count": null,
      "outputs": [
        {
          "output_type": "stream",
          "name": "stdout",
          "text": [
            " [1] \"coefficients\"  \"residuals\"     \"effects\"       \"rank\"         \n",
            " [5] \"fitted.values\" \"assign\"        \"qr\"            \"df.residual\"  \n",
            " [9] \"xlevels\"       \"call\"          \"terms\"         \"model\"        \n"
          ]
        }
      ]
    },
    {
      "cell_type": "code",
      "source": [
        "%%R\n",
        "#str(relation)\n",
        "relation$coefficients[1]\n"
      ],
      "metadata": {
        "colab": {
          "base_uri": "https://localhost:8080/"
        },
        "id": "ylispZWQNC2G",
        "outputId": "3273443f-c739-41cc-d06e-c50771beb3fe"
      },
      "execution_count": null,
      "outputs": [
        {
          "output_type": "stream",
          "name": "stdout",
          "text": [
            "(Intercept) \n",
            "    25792.2 \n"
          ]
        }
      ]
    },
    {
      "cell_type": "code",
      "source": [
        "%%R\n",
        "c=relation$coefficients[1]\n",
        "m=relation$coefficients[2]\n",
        "print(c)\n",
        "print(m)"
      ],
      "metadata": {
        "colab": {
          "base_uri": "https://localhost:8080/"
        },
        "id": "ogdcAPp5OCI8",
        "outputId": "baf722fb-a5f6-4330-be97-78734b3d1278"
      },
      "execution_count": null,
      "outputs": [
        {
          "output_type": "stream",
          "name": "stdout",
          "text": [
            "(Intercept) \n",
            "    25792.2 \n",
            "salary$YearsExperience \n",
            "              9449.962 \n"
          ]
        }
      ]
    },
    {
      "cell_type": "code",
      "source": [
        "%%R\n",
        "salary_output=m*10+c\n",
        "print(salary_output)"
      ],
      "metadata": {
        "colab": {
          "base_uri": "https://localhost:8080/"
        },
        "id": "SlGMp-ZhOfxU",
        "outputId": "a49a1773-fc82-4270-9df2-0b8314bc720f"
      },
      "execution_count": null,
      "outputs": [
        {
          "output_type": "stream",
          "name": "stdout",
          "text": [
            "salary$YearsExperience \n",
            "              120291.8 \n"
          ]
        }
      ]
    },
    {
      "cell_type": "code",
      "source": [
        "%%R\n",
        "y=m*salary$YearsExperience+c\n",
        "print(y)\n",
        "salary1<-mutate(salary,predicted=y)\n",
        "salary2<-mutate(salary1,difference=Salary-predicted)\n",
        "print(salary1)\n",
        "print(salary2)"
      ],
      "metadata": {
        "colab": {
          "base_uri": "https://localhost:8080/"
        },
        "id": "y58ptSX_PfE_",
        "outputId": "7137c1b2-5649-4daa-9a2c-defb12b7bb5d"
      },
      "execution_count": null,
      "outputs": [
        {
          "output_type": "stream",
          "name": "stdout",
          "text": [
            " [1]  36187.16  38077.15  39967.14  44692.12  46582.12  53197.09  54142.09\n",
            " [8]  56032.08  56032.08  60757.06  62647.05  63592.05  63592.05  64537.05\n",
            "[15]  68317.03  72097.02  73987.01  75877.00  81546.98  82491.97  90051.94\n",
            "[22]  92886.93 100446.90 103281.89 108006.87 110841.86 115566.84 116511.84\n",
            "[29] 123126.81 125016.80\n",
            "# A tibble: 30 × 3\n",
            "   YearsExperience Salary predicted\n",
            "             <dbl>  <dbl>     <dbl>\n",
            " 1             1.1  39343    36187.\n",
            " 2             1.3  46205    38077.\n",
            " 3             1.5  37731    39967.\n",
            " 4             2    43525    44692.\n",
            " 5             2.2  39891    46582.\n",
            " 6             2.9  56642    53197.\n",
            " 7             3    60150    54142.\n",
            " 8             3.2  54445    56032.\n",
            " 9             3.2  64445    56032.\n",
            "10             3.7  57189    60757.\n",
            "# … with 20 more rows\n",
            "# A tibble: 30 × 4\n",
            "   YearsExperience Salary predicted difference\n",
            "             <dbl>  <dbl>     <dbl>      <dbl>\n",
            " 1             1.1  39343    36187.      3156.\n",
            " 2             1.3  46205    38077.      8128.\n",
            " 3             1.5  37731    39967.     -2236.\n",
            " 4             2    43525    44692.     -1167.\n",
            " 5             2.2  39891    46582.     -6691.\n",
            " 6             2.9  56642    53197.      3445.\n",
            " 7             3    60150    54142.      6008.\n",
            " 8             3.2  54445    56032.     -1587.\n",
            " 9             3.2  64445    56032.      8413.\n",
            "10             3.7  57189    60757.     -3568.\n",
            "# … with 20 more rows\n"
          ]
        }
      ]
    },
    {
      "cell_type": "code",
      "source": [
        "%%R\n",
        "plot(salary$YearsExperience,salary$Salary,\n",
        "     main=\"Regression for YearsExperience and Salary\",\n",
        "     xlab='YearsExperience',ylab='Salary')\n",
        "abline(relation,col=\"red\")\n"
      ],
      "metadata": {
        "id": "9t0gJqIJRHEL",
        "colab": {
          "base_uri": "https://localhost:8080/",
          "height": 497
        },
        "outputId": "d3e59c01-a217-45c5-d061-3662da8575b8"
      },
      "execution_count": null,
      "outputs": [
        {
          "output_type": "display_data",
          "data": {
            "image/png": "[encoded data removed]"
          },
          "metadata": {}
        }
      ]
    },
    {
      "cell_type": "code",
      "source": [
        "%%R\n",
        " ga=read_csv(\"/content/GAdata.csv\")"
      ],
      "metadata": {
        "id": "j7V9s05YN2xM",
        "colab": {
          "base_uri": "https://localhost:8080/"
        },
        "outputId": "091b0d5c-30b0-4adb-ac18-d7bc26e7cd22"
      },
      "execution_count": null,
      "outputs": [
        {
          "output_type": "stream",
          "name": "stdout",
          "text": [
            "Rows: 500 Columns: 9\n",
            "── Column specification ────────────────────────────────────────────────────────\n",
            "Delimiter: \",\"\n",
            "dbl (9): SerialNo., GREScore, TOEFLScore, UniversityRating, SOP, LOR, CGPA, ...\n",
            "\n",
            "ℹ Use `spec()` to retrieve the full column specification for this data.\n",
            "ℹ Specify the column types or set `show_col_types = FALSE` to quiet this message.\n"
          ]
        }
      ]
    },
    {
      "cell_type": "code",
      "source": [
        "%%R\n",
        "ga"
      ],
      "metadata": {
        "colab": {
          "base_uri": "https://localhost:8080/"
        },
        "id": "s1Q7_FBoYR-4",
        "outputId": "9be9813e-c828-45b9-9fe6-0c95641c022f"
      },
      "execution_count": null,
      "outputs": [
        {
          "output_type": "stream",
          "name": "stdout",
          "text": [
            "# A tibble: 500 × 9\n",
            "   SerialNo. GREScore TOEFLScore UniversityRating   SOP   LOR  CGPA Research\n",
            "       <dbl>    <dbl>      <dbl>            <dbl> <dbl> <dbl> <dbl>    <dbl>\n",
            " 1         1      337        118                4   4.5   4.5  9.65        1\n",
            " 2         2      324        107                4   4     4.5  8.87        1\n",
            " 3         3      316        104                3   3     3.5  8           1\n",
            " 4         4      322        110                3   3.5   2.5  8.67        1\n",
            " 5         5      314        103                2   2     3    8.21        0\n",
            " 6         6      330        115                5   4.5   3    9.34        1\n",
            " 7         7      321        109                3   3     4    8.2         1\n",
            " 8         8      308        101                2   3     4    7.9         0\n",
            " 9         9      302        102                1   2     1.5  8           0\n",
            "10        10      323        108                3   3.5   3    8.6         0\n",
            "# … with 490 more rows, and 1 more variable: Chance_of_Admit <dbl>\n"
          ]
        }
      ]
    },
    {
      "cell_type": "code",
      "source": [
        "%%R\n",
        "ga1=select(ga,-\"SerialNo.\")\n",
        "print(ga1)"
      ],
      "metadata": {
        "colab": {
          "base_uri": "https://localhost:8080/"
        },
        "id": "9qboNFi5ZdQb",
        "outputId": "eb5e9df0-d0e6-40a5-e8b2-5b925c8c5fa4"
      },
      "execution_count": null,
      "outputs": [
        {
          "output_type": "stream",
          "name": "stdout",
          "text": [
            "# A tibble: 500 × 8\n",
            "   GREScore TOEFLScore UniversityRating   SOP   LOR  CGPA Research\n",
            "      <dbl>      <dbl>            <dbl> <dbl> <dbl> <dbl>    <dbl>\n",
            " 1      337        118                4   4.5   4.5  9.65        1\n",
            " 2      324        107                4   4     4.5  8.87        1\n",
            " 3      316        104                3   3     3.5  8           1\n",
            " 4      322        110                3   3.5   2.5  8.67        1\n",
            " 5      314        103                2   2     3    8.21        0\n",
            " 6      330        115                5   4.5   3    9.34        1\n",
            " 7      321        109                3   3     4    8.2         1\n",
            " 8      308        101                2   3     4    7.9         0\n",
            " 9      302        102                1   2     1.5  8           0\n",
            "10      323        108                3   3.5   3    8.6         0\n",
            "# … with 490 more rows, and 1 more variable: Chance_of_Admit <dbl>\n"
          ]
        }
      ]
    },
    {
      "cell_type": "code",
      "source": [
        "%%R\n",
        "cor(ga1)"
      ],
      "metadata": {
        "colab": {
          "base_uri": "https://localhost:8080/"
        },
        "id": "0ugYkzS9ZtCM",
        "outputId": "b47cdebc-5340-4a0f-9eb1-f20f30e65a15"
      },
      "execution_count": null,
      "outputs": [
        {
          "output_type": "stream",
          "name": "stdout",
          "text": [
            "                  GREScore TOEFLScore UniversityRating       SOP       LOR\n",
            "GREScore         1.0000000  0.8272004        0.6353762 0.6134977 0.5246794\n",
            "TOEFLScore       0.8272004  1.0000000        0.6497992 0.6444104 0.5415633\n",
            "UniversityRating 0.6353762  0.6497992        1.0000000 0.7280236 0.6086507\n",
            "SOP              0.6134977  0.6444104        0.7280236 1.0000000 0.6637069\n",
            "LOR              0.5246794  0.5415633        0.6086507 0.6637069 1.0000000\n",
            "CGPA             0.8258780  0.8105735        0.7052543 0.7121543 0.6374692\n",
            "Research         0.5633981  0.4670121        0.4270475 0.4081158 0.3725256\n",
            "Chance_of_Admit  0.8103506  0.7922276        0.6901324 0.6841365 0.6453645\n",
            "                      CGPA  Research Chance_of_Admit\n",
            "GREScore         0.8258780 0.5633981       0.8103506\n",
            "TOEFLScore       0.8105735 0.4670121       0.7922276\n",
            "UniversityRating 0.7052543 0.4270475       0.6901324\n",
            "SOP              0.7121543 0.4081158       0.6841365\n",
            "LOR              0.6374692 0.3725256       0.6453645\n",
            "CGPA             1.0000000 0.5013110       0.8824126\n",
            "Research         0.5013110 1.0000000       0.5458710\n",
            "Chance_of_Admit  0.8824126 0.5458710       1.0000000\n"
          ]
        }
      ]
    },
    {
      "cell_type": "code",
      "source": [
        "%%R\n",
        "install.packages(\"corrplot\")"
      ],
      "metadata": {
        "colab": {
          "base_uri": "https://localhost:8080/"
        },
        "id": "0hHI1MCTcI0p",
        "outputId": "ad84d9bc-c857-4fde-9c4e-808db50a95fe"
      },
      "execution_count": null,
      "outputs": [
        {
          "output_type": "stream",
          "name": "stderr",
          "text": [
            "R[write to console]: Installing package into ‘/usr/local/lib/R/site-library’\n",
            "(as ‘lib’ is unspecified)\n",
            "\n",
            "R[write to console]: trying URL 'https://cran.rstudio.com/src/contrib/corrplot_0.92.tar.gz'\n",
            "\n",
            "R[write to console]: Content type 'application/x-gzip'\n",
            "R[write to console]:  length 3765850 bytes (3.6 MB)\n",
            "\n",
            "R[write to console]: =\n",
            "R[write to console]: =\n",
            "R[write to console]: =\n",
            "R[write to console]: =\n",
            "R[write to console]: =\n",
            "R[write to console]: =\n",
            "R[write to console]: =\n",
            "R[write to console]: =\n",
            "R[write to console]: =\n",
            "R[write to console]: =\n",
            "R[write to console]: =\n",
            "R[write to console]: =\n",
            "R[write to console]: =\n",
            "R[write to console]: =\n",
            "R[write to console]: =\n",
            "R[write to console]: =\n",
            "R[write to console]: =\n",
            "R[write to console]: =\n",
            "R[write to console]: =\n",
            "R[write to console]: =\n",
            "R[write to console]: =\n",
            "R[write to console]: =\n",
            "R[write to console]: =\n",
            "R[write to console]: =\n",
            "R[write to console]: =\n",
            "R[write to console]: =\n",
            "R[write to console]: =\n",
            "R[write to console]: =\n",
            "R[write to console]: =\n",
            "R[write to console]: =\n",
            "R[write to console]: =\n",
            "R[write to console]: =\n",
            "R[write to console]: =\n",
            "R[write to console]: =\n",
            "R[write to console]: =\n",
            "R[write to console]: =\n",
            "R[write to console]: =\n",
            "R[write to console]: =\n",
            "R[write to console]: =\n",
            "R[write to console]: =\n",
            "R[write to console]: =\n",
            "R[write to console]: =\n",
            "R[write to console]: =\n",
            "R[write to console]: =\n",
            "R[write to console]: =\n",
            "R[write to console]: =\n",
            "R[write to console]: =\n",
            "R[write to console]: =\n",
            "R[write to console]: =\n",
            "R[write to console]: =\n",
            "R[write to console]: \n",
            "\n",
            "R[write to console]: downloaded 3.6 MB\n",
            "\n",
            "\n",
            "R[write to console]: \n",
            "\n",
            "R[write to console]: \n",
            "R[write to console]: The downloaded source packages are in\n",
            "\t‘/tmp/Rtmp0YbqNf/downloaded_packages’\n",
            "R[write to console]: \n",
            "R[write to console]: \n",
            "\n"
          ]
        }
      ]
    },
    {
      "cell_type": "code",
      "source": [
        "%%R\n",
        "library(corrplot)\n",
        "corrplot(cor(ga1),method=\"circle\")"
      ],
      "metadata": {
        "colab": {
          "base_uri": "https://localhost:8080/",
          "height": 497
        },
        "id": "xDnwGcghaIEe",
        "outputId": "894cf1e9-6385-4236-c76f-dad1f0af80e4"
      },
      "execution_count": null,
      "outputs": [
        {
          "output_type": "display_data",
          "data": {
            "image/png": "[encoded data removed]"
          },
          "metadata": {}
        }
      ]
    },
    {
      "cell_type": "code",
      "source": [
        "%%R\n",
        "colnames(ga1)\n",
        "ga1$TOEFLScore"
      ],
      "metadata": {
        "colab": {
          "base_uri": "https://localhost:8080/"
        },
        "id": "2g7GvCcl1Nn3",
        "outputId": "76b1b28a-633f-44fd-baf5-905c82d91275"
      },
      "execution_count": null,
      "outputs": [
        {
          "output_type": "stream",
          "name": "stdout",
          "text": [
            "  [1] 118 107 104 110 103 115 109 101 102 108 106 111 112 109 104 105 107 106\n",
            " [19] 110 102 107 114 116 119 119 120 109  98  93  99  97 103 118 114 112 110\n",
            " [37] 106 105 105 108 110 105 107 117 113 110 114 119 110 111  98 100 116 112\n",
            " [55] 110 103 102  99  99 104 100 101 105 107 111 112 114 107 109 115 118 112\n",
            " [73] 111 108 106 114 112  99  95  93 105 120 110 115 115 103 106 107 108 109\n",
            " [91] 106  97  98  97  99 100 100 120 119 113 107 105 106 104 112 110 111 117\n",
            "[109] 116 103 108 109 107 110 105 106 102 104  99 104 117 119 106 108 106 100\n",
            "[127] 113 112 112 118 114 105 105 112 113 109 103 100 116 109 110 118 115 120\n",
            "[145] 112 113 105 114 116 106 114 116 112 105 108 109 105 104 106 100 103  99\n",
            "[163] 109 105 111 110 102 102  97  99 101 117 110 113 111 111 119 110 108 102\n",
            "[181] 104 107 100 110 106 113 107 118 115 112 111 110 114 118 109 107 105 106\n",
            "[199] 104 107 103 110 120 120 105  99  99 102 106 104 108 110 120 119 117 116\n",
            "[217] 112 109 110 104 103 110 113 109 105  99 110 110 112 111 104 106 107 100\n",
            "[235] 113 111 112 114 104 100 101 103 115 114 107 110 105 104 110 111 104  99\n",
            "[253] 100 115 114 110  99 100 102 119 108 104 103 111 110 102 105 107 113 108\n",
            "[271] 105  96  95  99 100 110 113 101 103 102 102 110 106 111 112 116 118 114\n",
            "[289] 104 109 105 102  99  98 101 100 107 120 114 112 106 108 105 107 106 109\n",
            "[307] 110 112 108 110 104 108 107 100 105 104 101  99 111 113 106 104 107 102\n",
            "[325] 104 116 100 101 112  96 113 105 106 108 107 111 110 118 108 107 107 110\n",
            "[343] 106 103  96  98  97  94  99 101 107 110 100 102  98 106 109 104 105 107\n",
            "[361] 110 116 115 103 102 114 104  98  92  98 103 110 119 109 105 101  96 100\n",
            "[379]  98  99 104 105 110 100 113 117 101 105  97 108 102 106 112 104 111 110\n",
            "[397] 107 116 103 117 100 105 109 116 101  99 103 100 101  98  96  94 102 101\n",
            "[415] 110 106 104 103 111 102 100 112 112 119 114 111 106 101 103 115 104 112\n",
            "[433] 112 111 103 105 110 106 110 105 104 112 116 114 113 116 118 108 109 101\n",
            "[451] 112 113 116 103 105 102 100  99 100 113 105 102 105 107  97  96  99 101\n",
            "[469] 110 114 110 103 116 102 105 101 104 105 103 110 102 107 113 103 106 101\n",
            "[487] 102 115 112 110 105  99 101  95  99 108 117 120 103 113\n"
          ]
        }
      ]
    },
    {
      "cell_type": "code",
      "source": [
        "%%R\n",
        "#print(ga1$Chance_of_Admit)\n",
        "relation<-lm(ga1$Chance_of_Admit~(ga1$GREScore+ga1$TOEFLScore+ga1$CGPA))\n",
        "print(relation)"
      ],
      "metadata": {
        "colab": {
          "base_uri": "https://localhost:8080/"
        },
        "id": "8e5OvS8dSsaG",
        "outputId": "5f305b97-101c-4198-e3a3-0e022958d377"
      },
      "execution_count": null,
      "outputs": [
        {
          "output_type": "stream",
          "name": "stdout",
          "text": [
            "\n",
            "Call:\n",
            "lm(formula = ga1$Chance_of_Admit ~ (ga1$GREScore + ga1$TOEFLScore + \n",
            "    ga1$CGPA))\n",
            "\n",
            "Coefficients:\n",
            "   (Intercept)    ga1$GREScore  ga1$TOEFLScore        ga1$CGPA  \n",
            "     -1.596809        0.002352        0.003199        0.143574  \n",
            "\n"
          ]
        }
      ]
    },
    {
      "cell_type": "code",
      "source": [
        "%%R\n",
        "summary(relation)\n"
      ],
      "metadata": {
        "colab": {
          "base_uri": "https://localhost:8080/"
        },
        "id": "hVBuvJuHc08a",
        "outputId": "efda298d-50fe-4287-a208-b1c87b92ed17"
      },
      "execution_count": null,
      "outputs": [
        {
          "output_type": "stream",
          "name": "stdout",
          "text": [
            "\n",
            "Call:\n",
            "lm(formula = ga1$Chance_of_Admit ~ (ga1$GREScore + ga1$TOEFLScore + \n",
            "    ga1$CGPA))\n",
            "\n",
            "Residuals:\n",
            "      Min        1Q    Median        3Q       Max \n",
            "-0.293061 -0.020722  0.008274  0.036718  0.141429 \n",
            "\n",
            "Coefficients:\n",
            "                 Estimate Std. Error t value Pr(>|t|)    \n",
            "(Intercept)    -1.5968093  0.0909032 -17.566  < 2e-16 ***\n",
            "ga1$GREScore    0.0023519  0.0005007   4.697 3.42e-06 ***\n",
            "ga1$TOEFLScore  0.0031986  0.0008953   3.573 0.000388 ***\n",
            "ga1$CGPA        0.1435741  0.0089717  16.003  < 2e-16 ***\n",
            "---\n",
            "Signif. codes:  0 ‘***’ 0.001 ‘**’ 0.01 ‘*’ 0.05 ‘.’ 0.1 ‘ ’ 1\n",
            "\n",
            "Residual standard error: 0.06258 on 496 degrees of freedom\n",
            "Multiple R-squared:  0.8046,\tAdjusted R-squared:  0.8034 \n",
            "F-statistic: 680.9 on 3 and 496 DF,  p-value: < 2.2e-16\n",
            "\n"
          ]
        }
      ]
    },
    {
      "cell_type": "code",
      "source": [
        "%%R\n",
        "print(coefficients(relation))\n"
      ],
      "metadata": {
        "colab": {
          "base_uri": "https://localhost:8080/"
        },
        "id": "ILh6jK3CduY9",
        "outputId": "39c5eccb-34a8-4987-93dd-701cee121231"
      },
      "execution_count": null,
      "outputs": [
        {
          "output_type": "stream",
          "name": "stdout",
          "text": [
            "   (Intercept)   ga1$GREScore ga1$TOEFLScore       ga1$CGPA \n",
            "  -1.596809348    0.002351948    0.003198647    0.143574061 \n"
          ]
        }
      ]
    },
    {
      "cell_type": "code",
      "source": [
        "%%R\n",
        "c=relation$coefficients[1]\n",
        "m1=relation$coefficients[2]\n",
        "m2=relation$coefficients[3]\n",
        "m3=relation$coefficients[4]\n",
        "print(c)\n",
        "print(m1)\n",
        "print(m2)\n",
        "print(m3)\n"
      ],
      "metadata": {
        "colab": {
          "base_uri": "https://localhost:8080/"
        },
        "id": "1JnwcLtYe6kQ",
        "outputId": "ca07ca2f-154c-42e5-a1db-385e4aa722ef"
      },
      "execution_count": null,
      "outputs": [
        {
          "output_type": "stream",
          "name": "stdout",
          "text": [
            "(Intercept) \n",
            "  -1.596809 \n",
            "ga1$GREScore \n",
            " 0.002351948 \n",
            "ga1$TOEFLScore \n",
            "   0.003198647 \n",
            " ga1$CGPA \n",
            "0.1435741 \n"
          ]
        }
      ]
    },
    {
      "cell_type": "code",
      "source": [
        "%%R\n",
        "ca=c+m1*338+m2*118+m3*9.8\n",
        "print(ca)"
      ],
      "metadata": {
        "colab": {
          "base_uri": "https://localhost:8080/"
        },
        "id": "6ORQ04Q7fvtZ",
        "outputId": "7b1974ea-2bb3-43c6-9edb-bc7fe67463c7"
      },
      "execution_count": null,
      "outputs": [
        {
          "output_type": "stream",
          "name": "stdout",
          "text": [
            "(Intercept) \n",
            "  0.9826152 \n"
          ]
        }
      ]
    },
    {
      "cell_type": "code",
      "source": [
        "%%R\n",
        "caOut=c+m1*ga1$GREScore+m2*ga1$TOEFLScore+m3*ga1$CGPA\n",
        "#print(caOut)\n",
        "ga1<-mutate(ga1,predicted=caOut)\n",
        "ga2<-mutate(ga1,difference=Chance_of_Admit-predicted)\n",
        "print(ga2)"
      ],
      "metadata": {
        "colab": {
          "base_uri": "https://localhost:8080/"
        },
        "id": "IDfQB8DtgRLC",
        "outputId": "490c028a-9803-416e-98cd-3c7d7324eff7"
      },
      "execution_count": null,
      "outputs": [
        {
          "output_type": "stream",
          "name": "stdout",
          "text": [
            "# A tibble: 500 × 10\n",
            "   GREScore TOEFLScore UniversityRating   SOP   LOR  CGPA Research\n",
            "      <dbl>      <dbl>            <dbl> <dbl> <dbl> <dbl>    <dbl>\n",
            " 1      337        118                4   4.5   4.5  9.65        1\n",
            " 2      324        107                4   4     4.5  8.87        1\n",
            " 3      316        104                3   3     3.5  8           1\n",
            " 4      322        110                3   3.5   2.5  8.67        1\n",
            " 5      314        103                2   2     3    8.21        0\n",
            " 6      330        115                5   4.5   3    9.34        1\n",
            " 7      321        109                3   3     4    8.2         1\n",
            " 8      308        101                2   3     4    7.9         0\n",
            " 9      302        102                1   2     1.5  8           0\n",
            "10      323        108                3   3.5   3    8.6         0\n",
            "# … with 490 more rows, and 3 more variables: Chance_of_Admit <dbl>,\n",
            "#   predicted <dbl>, difference <dbl>\n"
          ]
        }
      ]
    },
    {
      "cell_type": "code",
      "source": [
        "%%R\n",
        "colnames(ga2)\n",
        "ga3=select(ga2,Chance_of_Admit,predicted,difference)\n",
        "print(tbl_df(ga3),n=100)\n",
        "\n"
      ],
      "metadata": {
        "colab": {
          "base_uri": "https://localhost:8080/"
        },
        "id": "8FCoFcYThvUk",
        "outputId": "d0aaaef2-5d4e-4f5c-b338-d323b001fe9c"
      },
      "execution_count": null,
      "outputs": [
        {
          "output_type": "stream",
          "name": "stdout",
          "text": [
            "# A tibble: 500 × 3\n",
            "    Chance_of_Admit predicted difference\n",
            "              <dbl>     <dbl>      <dbl>\n",
            "  1            0.92     0.959 -0.0387   \n",
            "  2            0.76     0.781 -0.0210   \n",
            "  3            0.72     0.628  0.0923   \n",
            "  4            0.8      0.757  0.0428   \n",
            "  5            0.65     0.650  0.0000940\n",
            "  6            0.9      0.888  0.0118   \n",
            "  7            0.75     0.684  0.0659   \n",
            "  8            0.68     0.585  0.0951   \n",
            "  9            0.5      0.588 -0.0883   \n",
            " 10            0.45     0.743 -0.293    \n",
            " 11            0.52     0.713 -0.193    \n",
            " 12            0.84     0.819  0.0205   \n",
            " 13            0.78     0.839 -0.0594   \n",
            " 14            0.62     0.622 -0.00248  \n",
            " 15            0.61     0.645 -0.0346   \n",
            " 16            0.54     0.669 -0.129    \n",
            " 17            0.66     0.740 -0.0801   \n",
            " 18            0.65     0.641  0.00889  \n",
            " 19            0.63     0.766 -0.136    \n",
            " 20            0.62     0.662 -0.0425   \n",
            " 21            0.64     0.613  0.0265   \n",
            " 22            0.7      0.738 -0.0382   \n",
            " 23            0.94     0.910  0.0304   \n",
            " 24            0.95     0.962 -0.0120   \n",
            " 25            0.97     0.981 -0.0111   \n",
            " 26            0.94     0.965 -0.0250   \n",
            " 27            0.76     0.773 -0.0126   \n",
            " 28            0.44     0.494 -0.0543   \n",
            " 29            0.46     0.428  0.0318   \n",
            " 30            0.54     0.497  0.0429   \n",
            " 31            0.65     0.582  0.0680   \n",
            " 32            0.74     0.693  0.0466   \n",
            " 33            0.91     0.925 -0.0152   \n",
            " 34            0.9      0.946 -0.0458   \n",
            " 35            0.94     0.947 -0.00696  \n",
            " 36            0.88     0.829  0.0515   \n",
            " 37            0.64     0.652 -0.0115   \n",
            " 38            0.58     0.565  0.0155   \n",
            " 39            0.52     0.531 -0.0108   \n",
            " 40            0.48     0.576 -0.0962   \n",
            " 41            0.46     0.628 -0.168    \n",
            " 42            0.49     0.660 -0.170    \n",
            " 43            0.53     0.702 -0.172    \n",
            " 44            0.87     0.865  0.00520  \n",
            " 45            0.91     0.881  0.0290   \n",
            " 46            0.88     0.819  0.0611   \n",
            " 47            0.86     0.877 -0.0169   \n",
            " 48            0.89     0.974 -0.0838   \n",
            " 49            0.82     0.781  0.0394   \n",
            " 50            0.78     0.733  0.0467   \n",
            " 51            0.76     0.644  0.116    \n",
            " 52            0.56     0.591 -0.0311   \n",
            " 53            0.78     0.708  0.0716   \n",
            " 54            0.72     0.686  0.0336   \n",
            " 55            0.7      0.661  0.0390   \n",
            " 56            0.64     0.591  0.0492   \n",
            " 57            0.64     0.535  0.105    \n",
            " 58            0.46     0.512 -0.0519   \n",
            " 59            0.36     0.402 -0.0417   \n",
            " 60            0.42     0.659 -0.239    \n",
            " 61            0.48     0.613 -0.133    \n",
            " 62            0.47     0.626 -0.156    \n",
            " 63            0.54     0.631 -0.0913   \n",
            " 64            0.56     0.707 -0.147    \n",
            " 65            0.52     0.772 -0.252    \n",
            " 66            0.55     0.807 -0.257    \n",
            " 67            0.61     0.832 -0.222    \n",
            " 68            0.57     0.729 -0.159    \n",
            " 69            0.68     0.824 -0.144    \n",
            " 70            0.78     0.858 -0.0776   \n",
            " 71            0.94     0.946 -0.00553  \n",
            " 72            0.96     0.953  0.00702  \n",
            " 73            0.93     0.870  0.0600   \n",
            " 74            0.84     0.785  0.0549   \n",
            " 75            0.74     0.759 -0.0186   \n",
            " 76            0.72     0.771 -0.0506   \n",
            " 77            0.74     0.782 -0.0425   \n",
            " 78            0.64     0.608  0.0320   \n",
            " 79            0.44     0.486 -0.0458   \n",
            " 80            0.46     0.449  0.0112   \n",
            " 81            0.5      0.624 -0.124    \n",
            " 82            0.96     0.951  0.00936  \n",
            " 83            0.92     0.831  0.0886   \n",
            " 84            0.92     0.872  0.0478   \n",
            " 85            0.94     0.927  0.0125   \n",
            " 86            0.76     0.726  0.0337   \n",
            " 87            0.72     0.692  0.0280   \n",
            " 88            0.66     0.680 -0.0198   \n",
            " 89            0.64     0.656 -0.0158   \n",
            " 90            0.74     0.753 -0.0128   \n",
            " 91            0.64     0.627  0.0127   \n",
            " 92            0.38     0.516 -0.136    \n",
            " 93            0.34     0.570 -0.230    \n",
            " 94            0.44     0.553 -0.113    \n",
            " 95            0.36     0.532 -0.172    \n",
            " 96            0.42     0.564 -0.144    \n",
            " 97            0.48     0.591 -0.111    \n",
            " 98            0.86     0.852  0.00805  \n",
            " 99            0.9      0.891  0.00870  \n",
            "100            0.79     0.799 -0.00925  \n",
            "# … with 400 more rows\n"
          ]
        }
      ]
    },
    {
      "cell_type": "code",
      "source": [
        "%%R\n",
        "#print(ga1$Chance_of_Admit)\n",
        "relation<-lm(ga1$Chance_of_Admit~(ga1$GREScore+ga1$TOEFLScore+ga1$CGPA+ga1$SOP+ga1$UniversityRating))\n",
        "print(relation)"
      ],
      "metadata": {
        "colab": {
          "base_uri": "https://localhost:8080/"
        },
        "id": "sMrMFjetllL3",
        "outputId": "57dd93c9-1ee4-4d13-943f-76ff4c496973"
      },
      "execution_count": null,
      "outputs": [
        {
          "output_type": "stream",
          "name": "stdout",
          "text": [
            "\n",
            "Call:\n",
            "lm(formula = ga1$Chance_of_Admit ~ (ga1$GREScore + ga1$TOEFLScore + \n",
            "    ga1$CGPA + ga1$SOP + ga1$UniversityRating))\n",
            "\n",
            "Coefficients:\n",
            "         (Intercept)          ga1$GREScore        ga1$TOEFLScore  \n",
            "           -1.438603              0.002304              0.002603  \n",
            "            ga1$CGPA               ga1$SOP  ga1$UniversityRating  \n",
            "            0.127995              0.007779              0.009075  \n",
            "\n"
          ]
        }
      ]
    },
    {
      "cell_type": "code",
      "source": [
        "%%R\n",
        "c=relation$coefficients[1]\n",
        "m1=relation$coefficients[2]\n",
        "m2=relation$coefficients[3]\n",
        "m3=relation$coefficients[4]\n",
        "m4=relation$coefficients[5]\n",
        "m5=relation$coefficients[6]\n",
        "print(c)\n",
        "print(m1)\n",
        "print(m2)\n",
        "print(m3)\n",
        "print(m4)\n",
        "print(m5)\n"
      ],
      "metadata": {
        "colab": {
          "base_uri": "https://localhost:8080/"
        },
        "id": "1lwPvOpzj_t4",
        "outputId": "5b8b4e2d-615a-4250-8f51-3b5b80e095c4"
      },
      "execution_count": null,
      "outputs": [
        {
          "output_type": "stream",
          "name": "stdout",
          "text": [
            "(Intercept) \n",
            "  -1.438603 \n",
            "ga1$GREScore \n",
            "   0.0023038 \n",
            "ga1$TOEFLScore \n",
            "   0.002602854 \n",
            " ga1$CGPA \n",
            "0.1279954 \n",
            "    ga1$SOP \n",
            "0.007778737 \n",
            "ga1$UniversityRating \n",
            "         0.009074942 \n"
          ]
        }
      ]
    },
    {
      "cell_type": "code",
      "source": [
        "%%R\n",
        "ca=c+m1*338+m2*118+m3*9.8+m4*5+m5*5\n",
        "print(ca)"
      ],
      "metadata": {
        "colab": {
          "base_uri": "https://localhost:8080/"
        },
        "id": "UrJFpETFl_Jl",
        "outputId": "7b76c771-9466-4e7b-abe0-702688ffc0f4"
      },
      "execution_count": null,
      "outputs": [
        {
          "output_type": "stream",
          "name": "stdout",
          "text": [
            "(Intercept) \n",
            "  0.9858415 \n"
          ]
        }
      ]
    },
    {
      "cell_type": "code",
      "source": [
        "%%R\n",
        "caOut=c+m1*ga1$GREScore+m2*ga1$TOEFLScore+m3*ga1$CGPA+m4*ga1$SOP+m5*ga1$UniversityRating\n",
        "#print(caOut)\n",
        "ga2<-mutate(ga2,predicted=caOut)\n",
        "ga3<-mutate(ga2,difference=Chance_of_Admit-predicted)\n",
        "print(ga3)"
      ],
      "metadata": {
        "colab": {
          "base_uri": "https://localhost:8080/"
        },
        "id": "_RnQ1VuOpTxG",
        "outputId": "43e710ae-34a1-4a48-9f12-5b32ba3767d9"
      },
      "execution_count": null,
      "outputs": [
        {
          "output_type": "stream",
          "name": "stdout",
          "text": [
            "# A tibble: 500 × 10\n",
            "   GREScore TOEFLScore UniversityRating   SOP   LOR  CGPA Research\n",
            "      <dbl>      <dbl>            <dbl> <dbl> <dbl> <dbl>    <dbl>\n",
            " 1      337        118                4   4.5   4.5  9.65        1\n",
            " 2      324        107                4   4     4.5  8.87        1\n",
            " 3      316        104                3   3     3.5  8           1\n",
            " 4      322        110                3   3.5   2.5  8.67        1\n",
            " 5      314        103                2   2     3    8.21        0\n",
            " 6      330        115                5   4.5   3    9.34        1\n",
            " 7      321        109                3   3     4    8.2         1\n",
            " 8      308        101                2   3     4    7.9         0\n",
            " 9      302        102                1   2     1.5  8           0\n",
            "10      323        108                3   3.5   3    8.6         0\n",
            "# … with 490 more rows, and 3 more variables: Chance_of_Admit <dbl>,\n",
            "#   predicted <dbl>, difference <dbl>\n"
          ]
        }
      ]
    },
    {
      "cell_type": "code",
      "source": [
        "%%R\n",
        "colnames(ga2)\n",
        "ga3=select(ga2,Chance_of_Admit,predicted,difference,SOP,UniversityRating)\n",
        "print(tbl_df(ga3),n=100)"
      ],
      "metadata": {
        "colab": {
          "base_uri": "https://localhost:8080/"
        },
        "id": "Yx3vOZoqn-6e",
        "outputId": "a08deefd-f654-490a-e13b-d70cc6457612"
      },
      "execution_count": null,
      "outputs": [
        {
          "output_type": "stream",
          "name": "stdout",
          "text": [
            "# A tibble: 500 × 5\n",
            "    Chance_of_Admit predicted difference   SOP UniversityRating\n",
            "              <dbl>     <dbl>      <dbl> <dbl>            <dbl>\n",
            "  1            0.92     0.951 -0.0387      4.5                4\n",
            "  2            0.76     0.789 -0.0210      4                  4\n",
            "  3            0.72     0.635  0.0923      3                  3\n",
            "  4            0.8      0.754  0.0428      3.5                3\n",
            "  5            0.65     0.637  0.0000940   2                  2\n",
            "  6            0.9      0.897  0.0118      4.5                5\n",
            "  7            0.75     0.685  0.0659      3                  3\n",
            "  8            0.68     0.587  0.0951      3                  2\n",
            "  9            0.5      0.571 -0.0883      2                  1\n",
            " 10            0.45     0.742 -0.293       3.5                3\n",
            " 11            0.52     0.716 -0.193       3.5                3\n",
            " 12            0.84     0.823  0.0205      4                  4\n",
            " 13            0.78     0.841 -0.0594      4                  4\n",
            " 14            0.62     0.635 -0.00248     4                  3\n",
            " 15            0.61     0.653 -0.0346      3.5                3\n",
            " 16            0.54     0.675 -0.129       3.5                3\n",
            " 17            0.66     0.742 -0.0801      4                  3\n",
            " 18            0.65     0.655  0.00889     4                  3\n",
            " 19            0.63     0.765 -0.136       4                  3\n",
            " 20            0.62     0.667 -0.0425      3.5                3\n",
            " 21            0.64     0.620  0.0265      3                  3\n",
            " 22            0.7      0.742 -0.0382      3                  4\n",
            " 23            0.94     0.919  0.0304      5                  5\n",
            " 24            0.95     0.966 -0.0120      5                  5\n",
            " 25            0.97     0.976 -0.0111      4                  5\n",
            " 26            0.94     0.966 -0.0250      4.5                5\n",
            " 27            0.76     0.794 -0.0126      4.5                5\n",
            " 28            0.44     0.493 -0.0543      1.5                2\n",
            " 29            0.46     0.429  0.0318      2                  1\n",
            " 30            0.54     0.497  0.0429      1.5                2\n",
            " 31            0.65     0.583  0.0680      3                  2\n",
            " 32            0.74     0.704  0.0466      4                  3\n",
            " 33            0.91     0.910 -0.0152      3                  4\n",
            " 34            0.9      0.947 -0.0458      4                  5\n",
            " 35            0.94     0.946 -0.00696     4                  5\n",
            " 36            0.88     0.847  0.0515      5                  5\n",
            " 37            0.64     0.651 -0.0115      4                  2\n",
            " 38            0.58     0.541  0.0155      1                  1\n",
            " 39            0.52     0.527 -0.0108      3                  1\n",
            " 40            0.48     0.585 -0.0962      4                  2\n",
            " 41            0.46     0.636 -0.168       3.5                3\n",
            " 42            0.49     0.650 -0.170       2.5                2\n",
            " 43            0.53     0.687 -0.172       2.5                2\n",
            " 44            0.87     0.867  0.00520     4.5                4\n",
            " 45            0.91     0.890  0.0290      4.5                5\n",
            " 46            0.88     0.839  0.0611      5                  5\n",
            " 47            0.86     0.883 -0.0169      4                  5\n",
            " 48            0.89     0.974 -0.0838      4.5                5\n",
            " 49            0.82     0.774  0.0394      3.5                3\n",
            " 50            0.78     0.738  0.0467      3                  4\n",
            " 51            0.76     0.647  0.116       2.5                3\n",
            " 52            0.56     0.581 -0.0311      1.5                2\n",
            " 53            0.78     0.724  0.0716      4                  4\n",
            " 54            0.72     0.704  0.0336      4                  4\n",
            " 55            0.7      0.664  0.0390      3                  3\n",
            " 56            0.64     0.603  0.0492      3                  3\n",
            " 57            0.64     0.545  0.105       2                  3\n",
            " 58            0.46     0.528 -0.0519      4                  2\n",
            " 59            0.36     0.413 -0.0417      3                  1\n",
            " 60            0.42     0.645 -0.239       2                  2\n",
            " 61            0.48     0.612 -0.133       3                  2\n",
            " 62            0.47     0.639 -0.156       4                  3\n",
            " 63            0.54     0.626 -0.0913      3                  2\n",
            " 64            0.56     0.703 -0.147       4                  2\n",
            " 65            0.52     0.763 -0.252       3                  3\n",
            " 66            0.55     0.807 -0.257       3.5                4\n",
            " 67            0.61     0.817 -0.222       3                  3\n",
            " 68            0.57     0.719 -0.159       3.5                2\n",
            " 69            0.68     0.812 -0.144       3.5                3\n",
            " 70            0.78     0.860 -0.0776      4.5                4\n",
            " 71            0.94     0.952 -0.00553     5                  5\n",
            " 72            0.96     0.960  0.00702     5                  5\n",
            " 73            0.93     0.884  0.0600      5                  5\n",
            " 74            0.84     0.794  0.0549      4.5                4\n",
            " 75            0.74     0.750 -0.0186      3                  3\n",
            " 76            0.72     0.745 -0.0506      2                  2\n",
            " 77            0.74     0.773 -0.0425      3                  3\n",
            " 78            0.64     0.606  0.0320      3                  2\n",
            " 79            0.44     0.497 -0.0458      3                  2\n",
            " 80            0.46     0.444  0.0112      1.5                1\n",
            " 81            0.5      0.623 -0.124       2                  3\n",
            " 82            0.96     0.948  0.00936     5                  4\n",
            " 83            0.92     0.849  0.0886      5                  5\n",
            " 84            0.92     0.877  0.0478      4                  5\n",
            " 85            0.94     0.934  0.0125      4.5                5\n",
            " 86            0.76     0.744  0.0337      4.5                4\n",
            " 87            0.72     0.703  0.0280      4.5                3\n",
            " 88            0.66     0.675 -0.0198      3.5                2\n",
            " 89            0.64     0.670 -0.0158      4.5                3\n",
            " 90            0.74     0.766 -0.0128      4.5                4\n",
            " 91            0.64     0.633  0.0127      4                  2\n",
            " 92            0.38     0.549 -0.136       5                  3\n",
            " 93            0.34     0.580 -0.230       4                  2\n",
            " 94            0.44     0.557 -0.113       3                  2\n",
            " 95            0.36     0.540 -0.172       2                  3\n",
            " 96            0.42     0.573 -0.144       1.5                4\n",
            " 97            0.48     0.592 -0.111       3                  2\n",
            " 98            0.86     0.841  0.00805     4                  3\n",
            " 99            0.9      0.894  0.00870     5                  4\n",
            "100            0.79     0.795 -0.00925     4                  3\n",
            "# … with 400 more rows\n"
          ]
        }
      ]
    },
    {
      "cell_type": "code",
      "source": [
        ""
      ],
      "metadata": {
        "id": "XDG6pHQkmwJO"
      },
      "execution_count": null,
      "outputs": []
    }
  ]
}