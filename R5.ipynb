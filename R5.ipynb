{
  "nbformat": 4,
  "nbformat_minor": 0,
  "metadata": {
    "colab": {
      "name": "R5.ipynb",
      "provenance": [],
      "collapsed_sections": [],
      "authorship_tag": "ABX9TyMComU24iXJZPBGJHU4J4fx",
      "include_colab_link": true
    },
    "kernelspec": {
      "name": "python3",
      "display_name": "Python 3"
    },
    "language_info": {
      "name": "python"
    }
  },
  "cells": [
    {
      "cell_type": "markdown",
      "metadata": {
        "id": "view-in-github",
        "colab_type": "text"
      },
      "source": [
        "<a href=\"https://colab.research.google.com/github/ShanmukhRamachandruni/Data-Science/blob/main/R5.ipynb\" target=\"_parent\"><img src=\"https://colab.research.google.com/assets/colab-badge.svg\" alt=\"Open In Colab\"/></a>"
      ]
    },
    {
      "cell_type": "code",
      "execution_count": 19,
      "metadata": {
        "id": "-x1CdL9TvU9O",
        "colab": {
          "base_uri": "https://localhost:8080/"
        },
        "outputId": "f1cf25bc-d62e-48b4-fa58-36ddb4fa112d"
      },
      "outputs": [
        {
          "output_type": "stream",
          "name": "stdout",
          "text": [
            "The rpy2.ipython extension is already loaded. To reload it, use:\n",
            "  %reload_ext rpy2.ipython\n"
          ]
        }
      ],
      "source": [
        "%load_ext rpy2.ipython\n"
      ]
    },
    {
      "cell_type": "code",
      "source": [
        "%%R\n",
        "data(\n",
        "  \"iris\"\n",
        ")"
      ],
      "metadata": {
        "id": "Q-8PIS8Fvl9q"
      },
      "execution_count": 20,
      "outputs": []
    },
    {
      "cell_type": "code",
      "source": [
        "%%R\n",
        "head(iris)"
      ],
      "metadata": {
        "colab": {
          "base_uri": "https://localhost:8080/"
        },
        "id": "r9CpSRxqvowk",
        "outputId": "33977de7-d44e-4285-dda1-ba1d8674bf46"
      },
      "execution_count": 21,
      "outputs": [
        {
          "output_type": "stream",
          "name": "stdout",
          "text": [
            "  Sepal.Length Sepal.Width Petal.Length Petal.Width Species\n",
            "1          5.1         3.5          1.4         0.2  setosa\n",
            "2          4.9         3.0          1.4         0.2  setosa\n",
            "3          4.7         3.2          1.3         0.2  setosa\n",
            "4          4.6         3.1          1.5         0.2  setosa\n",
            "5          5.0         3.6          1.4         0.2  setosa\n",
            "6          5.4         3.9          1.7         0.4  setosa\n"
          ]
        }
      ]
    },
    {
      "cell_type": "code",
      "source": [
        "%%R\n",
        "install.packages(\"caret\")"
      ],
      "metadata": {
        "colab": {
          "base_uri": "https://localhost:8080/"
        },
        "id": "IEl4rQSyvsrE",
        "outputId": "6a5ea58f-baab-44ec-c84e-7b9e402456f5"
      },
      "execution_count": 22,
      "outputs": [
        {
          "output_type": "stream",
          "name": "stderr",
          "text": [
            "R[write to console]: Installing package into ‘/usr/local/lib/R/site-library’\n",
            "(as ‘lib’ is unspecified)\n",
            "\n",
            "R[write to console]: trying URL 'https://cran.rstudio.com/src/contrib/caret_6.0-90.tar.gz'\n",
            "\n",
            "R[write to console]: Content type 'application/x-gzip'\n",
            "R[write to console]:  length 2335088 bytes (2.2 MB)\n",
            "\n",
            "R[write to console]: =\n",
            "R[write to console]: =\n",
            "R[write to console]: =\n",
            "R[write to console]: =\n",
            "R[write to console]: =\n",
            "R[write to console]: =\n",
            "R[write to console]: =\n",
            "R[write to console]: =\n",
            "R[write to console]: =\n",
            "R[write to console]: =\n",
            "R[write to console]: =\n",
            "R[write to console]: =\n",
            "R[write to console]: =\n",
            "R[write to console]: =\n",
            "R[write to console]: =\n",
            "R[write to console]: =\n",
            "R[write to console]: =\n",
            "R[write to console]: =\n",
            "R[write to console]: =\n",
            "R[write to console]: =\n",
            "R[write to console]: =\n",
            "R[write to console]: =\n",
            "R[write to console]: =\n",
            "R[write to console]: =\n",
            "R[write to console]: =\n",
            "R[write to console]: =\n",
            "R[write to console]: =\n",
            "R[write to console]: =\n",
            "R[write to console]: =\n",
            "R[write to console]: =\n",
            "R[write to console]: =\n",
            "R[write to console]: =\n",
            "R[write to console]: =\n",
            "R[write to console]: =\n",
            "R[write to console]: =\n",
            "R[write to console]: =\n",
            "R[write to console]: =\n",
            "R[write to console]: =\n",
            "R[write to console]: =\n",
            "R[write to console]: =\n",
            "R[write to console]: =\n",
            "R[write to console]: =\n",
            "R[write to console]: =\n",
            "R[write to console]: =\n",
            "R[write to console]: =\n",
            "R[write to console]: =\n",
            "R[write to console]: =\n",
            "R[write to console]: =\n",
            "R[write to console]: =\n",
            "R[write to console]: =\n",
            "R[write to console]: \n",
            "\n",
            "R[write to console]: downloaded 2.2 MB\n",
            "\n",
            "\n",
            "R[write to console]: \n",
            "\n",
            "R[write to console]: \n",
            "R[write to console]: The downloaded source packages are in\n",
            "\t‘/tmp/RtmpUMDaSy/downloaded_packages’\n",
            "R[write to console]: \n",
            "R[write to console]: \n",
            "\n"
          ]
        }
      ]
    },
    {
      "cell_type": "code",
      "source": [
        "%%R\n",
        "library(caret)\n",
        "data_split<-createDataPartition(iris$Species,p=0.8,list=FALSE)\n"
      ],
      "metadata": {
        "id": "0TcZwa0hwe1I"
      },
      "execution_count": 23,
      "outputs": []
    },
    {
      "cell_type": "code",
      "source": [
        "%%R\n",
        "print(dim(data_split))\n",
        "print(class(data_split))\n",
        "print(data_split)"
      ],
      "metadata": {
        "colab": {
          "base_uri": "https://localhost:8080/"
        },
        "id": "nePjwKcrzEfN",
        "outputId": "72159573-f0fb-4895-a889-fc4a1f701af8"
      },
      "execution_count": 24,
      "outputs": [
        {
          "output_type": "stream",
          "name": "stdout",
          "text": [
            "[1] 120   1\n",
            "[1] \"matrix\" \"array\" \n",
            "       Resample1\n",
            "  [1,]         2\n",
            "  [2,]         3\n",
            "  [3,]         4\n",
            "  [4,]         5\n",
            "  [5,]         6\n",
            "  [6,]         7\n",
            "  [7,]         8\n",
            "  [8,]         9\n",
            "  [9,]        10\n",
            " [10,]        11\n",
            " [11,]        12\n",
            " [12,]        16\n",
            " [13,]        18\n",
            " [14,]        19\n",
            " [15,]        20\n",
            " [16,]        21\n",
            " [17,]        22\n",
            " [18,]        23\n",
            " [19,]        24\n",
            " [20,]        25\n",
            " [21,]        26\n",
            " [22,]        29\n",
            " [23,]        30\n",
            " [24,]        31\n",
            " [25,]        33\n",
            " [26,]        34\n",
            " [27,]        35\n",
            " [28,]        36\n",
            " [29,]        37\n",
            " [30,]        38\n",
            " [31,]        39\n",
            " [32,]        41\n",
            " [33,]        42\n",
            " [34,]        43\n",
            " [35,]        45\n",
            " [36,]        46\n",
            " [37,]        47\n",
            " [38,]        48\n",
            " [39,]        49\n",
            " [40,]        50\n",
            " [41,]        51\n",
            " [42,]        54\n",
            " [43,]        55\n",
            " [44,]        57\n",
            " [45,]        58\n",
            " [46,]        59\n",
            " [47,]        61\n",
            " [48,]        62\n",
            " [49,]        63\n",
            " [50,]        64\n",
            " [51,]        65\n",
            " [52,]        66\n",
            " [53,]        67\n",
            " [54,]        68\n",
            " [55,]        69\n",
            " [56,]        70\n",
            " [57,]        71\n",
            " [58,]        72\n",
            " [59,]        73\n",
            " [60,]        74\n",
            " [61,]        75\n",
            " [62,]        76\n",
            " [63,]        77\n",
            " [64,]        78\n",
            " [65,]        79\n",
            " [66,]        80\n",
            " [67,]        82\n",
            " [68,]        84\n",
            " [69,]        85\n",
            " [70,]        86\n",
            " [71,]        87\n",
            " [72,]        88\n",
            " [73,]        89\n",
            " [74,]        90\n",
            " [75,]        94\n",
            " [76,]        95\n",
            " [77,]        96\n",
            " [78,]        97\n",
            " [79,]        99\n",
            " [80,]       100\n",
            " [81,]       102\n",
            " [82,]       103\n",
            " [83,]       104\n",
            " [84,]       105\n",
            " [85,]       107\n",
            " [86,]       108\n",
            " [87,]       109\n",
            " [88,]       110\n",
            " [89,]       112\n",
            " [90,]       113\n",
            " [91,]       115\n",
            " [92,]       116\n",
            " [93,]       117\n",
            " [94,]       118\n",
            " [95,]       119\n",
            " [96,]       120\n",
            " [97,]       121\n",
            " [98,]       122\n",
            " [99,]       124\n",
            "[100,]       125\n",
            "[101,]       126\n",
            "[102,]       127\n",
            "[103,]       128\n",
            "[104,]       129\n",
            "[105,]       130\n",
            "[106,]       132\n",
            "[107,]       133\n",
            "[108,]       134\n",
            "[109,]       136\n",
            "[110,]       137\n",
            "[111,]       138\n",
            "[112,]       139\n",
            "[113,]       140\n",
            "[114,]       142\n",
            "[115,]       143\n",
            "[116,]       144\n",
            "[117,]       145\n",
            "[118,]       147\n",
            "[119,]       148\n",
            "[120,]       150\n"
          ]
        }
      ]
    },
    {
      "cell_type": "code",
      "source": [
        "%%R\n",
        "test_data<-iris[-data_split,]\n",
        "train_data<-iris[data_split,]\n",
        "print(test_data)\n",
        "print(train_data)\n",
        "print(dim(test_data))\n",
        "print(dim(train_data))"
      ],
      "metadata": {
        "colab": {
          "base_uri": "https://localhost:8080/"
        },
        "id": "XbpKP2VMzbWA",
        "outputId": "194c2e1e-fae6-40e2-93d6-72b2a62a57b1"
      },
      "execution_count": 25,
      "outputs": [
        {
          "output_type": "stream",
          "name": "stdout",
          "text": [
            "    Sepal.Length Sepal.Width Petal.Length Petal.Width    Species\n",
            "1            5.1         3.5          1.4         0.2     setosa\n",
            "13           4.8         3.0          1.4         0.1     setosa\n",
            "14           4.3         3.0          1.1         0.1     setosa\n",
            "15           5.8         4.0          1.2         0.2     setosa\n",
            "17           5.4         3.9          1.3         0.4     setosa\n",
            "27           5.0         3.4          1.6         0.4     setosa\n",
            "28           5.2         3.5          1.5         0.2     setosa\n",
            "32           5.4         3.4          1.5         0.4     setosa\n",
            "40           5.1         3.4          1.5         0.2     setosa\n",
            "44           5.0         3.5          1.6         0.6     setosa\n",
            "52           6.4         3.2          4.5         1.5 versicolor\n",
            "53           6.9         3.1          4.9         1.5 versicolor\n",
            "56           5.7         2.8          4.5         1.3 versicolor\n",
            "60           5.2         2.7          3.9         1.4 versicolor\n",
            "81           5.5         2.4          3.8         1.1 versicolor\n",
            "83           5.8         2.7          3.9         1.2 versicolor\n",
            "91           5.5         2.6          4.4         1.2 versicolor\n",
            "92           6.1         3.0          4.6         1.4 versicolor\n",
            "93           5.8         2.6          4.0         1.2 versicolor\n",
            "98           6.2         2.9          4.3         1.3 versicolor\n",
            "101          6.3         3.3          6.0         2.5  virginica\n",
            "106          7.6         3.0          6.6         2.1  virginica\n",
            "111          6.5         3.2          5.1         2.0  virginica\n",
            "114          5.7         2.5          5.0         2.0  virginica\n",
            "123          7.7         2.8          6.7         2.0  virginica\n",
            "131          7.4         2.8          6.1         1.9  virginica\n",
            "135          6.1         2.6          5.6         1.4  virginica\n",
            "141          6.7         3.1          5.6         2.4  virginica\n",
            "146          6.7         3.0          5.2         2.3  virginica\n",
            "149          6.2         3.4          5.4         2.3  virginica\n",
            "    Sepal.Length Sepal.Width Petal.Length Petal.Width    Species\n",
            "2            4.9         3.0          1.4         0.2     setosa\n",
            "3            4.7         3.2          1.3         0.2     setosa\n",
            "4            4.6         3.1          1.5         0.2     setosa\n",
            "5            5.0         3.6          1.4         0.2     setosa\n",
            "6            5.4         3.9          1.7         0.4     setosa\n",
            "7            4.6         3.4          1.4         0.3     setosa\n",
            "8            5.0         3.4          1.5         0.2     setosa\n",
            "9            4.4         2.9          1.4         0.2     setosa\n",
            "10           4.9         3.1          1.5         0.1     setosa\n",
            "11           5.4         3.7          1.5         0.2     setosa\n",
            "12           4.8         3.4          1.6         0.2     setosa\n",
            "16           5.7         4.4          1.5         0.4     setosa\n",
            "18           5.1         3.5          1.4         0.3     setosa\n",
            "19           5.7         3.8          1.7         0.3     setosa\n",
            "20           5.1         3.8          1.5         0.3     setosa\n",
            "21           5.4         3.4          1.7         0.2     setosa\n",
            "22           5.1         3.7          1.5         0.4     setosa\n",
            "23           4.6         3.6          1.0         0.2     setosa\n",
            "24           5.1         3.3          1.7         0.5     setosa\n",
            "25           4.8         3.4          1.9         0.2     setosa\n",
            "26           5.0         3.0          1.6         0.2     setosa\n",
            "29           5.2         3.4          1.4         0.2     setosa\n",
            "30           4.7         3.2          1.6         0.2     setosa\n",
            "31           4.8         3.1          1.6         0.2     setosa\n",
            "33           5.2         4.1          1.5         0.1     setosa\n",
            "34           5.5         4.2          1.4         0.2     setosa\n",
            "35           4.9         3.1          1.5         0.2     setosa\n",
            "36           5.0         3.2          1.2         0.2     setosa\n",
            "37           5.5         3.5          1.3         0.2     setosa\n",
            "38           4.9         3.6          1.4         0.1     setosa\n",
            "39           4.4         3.0          1.3         0.2     setosa\n",
            "41           5.0         3.5          1.3         0.3     setosa\n",
            "42           4.5         2.3          1.3         0.3     setosa\n",
            "43           4.4         3.2          1.3         0.2     setosa\n",
            "45           5.1         3.8          1.9         0.4     setosa\n",
            "46           4.8         3.0          1.4         0.3     setosa\n",
            "47           5.1         3.8          1.6         0.2     setosa\n",
            "48           4.6         3.2          1.4         0.2     setosa\n",
            "49           5.3         3.7          1.5         0.2     setosa\n",
            "50           5.0         3.3          1.4         0.2     setosa\n",
            "51           7.0         3.2          4.7         1.4 versicolor\n",
            "54           5.5         2.3          4.0         1.3 versicolor\n",
            "55           6.5         2.8          4.6         1.5 versicolor\n",
            "57           6.3         3.3          4.7         1.6 versicolor\n",
            "58           4.9         2.4          3.3         1.0 versicolor\n",
            "59           6.6         2.9          4.6         1.3 versicolor\n",
            "61           5.0         2.0          3.5         1.0 versicolor\n",
            "62           5.9         3.0          4.2         1.5 versicolor\n",
            "63           6.0         2.2          4.0         1.0 versicolor\n",
            "64           6.1         2.9          4.7         1.4 versicolor\n",
            "65           5.6         2.9          3.6         1.3 versicolor\n",
            "66           6.7         3.1          4.4         1.4 versicolor\n",
            "67           5.6         3.0          4.5         1.5 versicolor\n",
            "68           5.8         2.7          4.1         1.0 versicolor\n",
            "69           6.2         2.2          4.5         1.5 versicolor\n",
            "70           5.6         2.5          3.9         1.1 versicolor\n",
            "71           5.9         3.2          4.8         1.8 versicolor\n",
            "72           6.1         2.8          4.0         1.3 versicolor\n",
            "73           6.3         2.5          4.9         1.5 versicolor\n",
            "74           6.1         2.8          4.7         1.2 versicolor\n",
            "75           6.4         2.9          4.3         1.3 versicolor\n",
            "76           6.6         3.0          4.4         1.4 versicolor\n",
            "77           6.8         2.8          4.8         1.4 versicolor\n",
            "78           6.7         3.0          5.0         1.7 versicolor\n",
            "79           6.0         2.9          4.5         1.5 versicolor\n",
            "80           5.7         2.6          3.5         1.0 versicolor\n",
            "82           5.5         2.4          3.7         1.0 versicolor\n",
            "84           6.0         2.7          5.1         1.6 versicolor\n",
            "85           5.4         3.0          4.5         1.5 versicolor\n",
            "86           6.0         3.4          4.5         1.6 versicolor\n",
            "87           6.7         3.1          4.7         1.5 versicolor\n",
            "88           6.3         2.3          4.4         1.3 versicolor\n",
            "89           5.6         3.0          4.1         1.3 versicolor\n",
            "90           5.5         2.5          4.0         1.3 versicolor\n",
            "94           5.0         2.3          3.3         1.0 versicolor\n",
            "95           5.6         2.7          4.2         1.3 versicolor\n",
            "96           5.7         3.0          4.2         1.2 versicolor\n",
            "97           5.7         2.9          4.2         1.3 versicolor\n",
            "99           5.1         2.5          3.0         1.1 versicolor\n",
            "100          5.7         2.8          4.1         1.3 versicolor\n",
            "102          5.8         2.7          5.1         1.9  virginica\n",
            "103          7.1         3.0          5.9         2.1  virginica\n",
            "104          6.3         2.9          5.6         1.8  virginica\n",
            "105          6.5         3.0          5.8         2.2  virginica\n",
            "107          4.9         2.5          4.5         1.7  virginica\n",
            "108          7.3         2.9          6.3         1.8  virginica\n",
            "109          6.7         2.5          5.8         1.8  virginica\n",
            "110          7.2         3.6          6.1         2.5  virginica\n",
            "112          6.4         2.7          5.3         1.9  virginica\n",
            "113          6.8         3.0          5.5         2.1  virginica\n",
            "115          5.8         2.8          5.1         2.4  virginica\n",
            "116          6.4         3.2          5.3         2.3  virginica\n",
            "117          6.5         3.0          5.5         1.8  virginica\n",
            "118          7.7         3.8          6.7         2.2  virginica\n",
            "119          7.7         2.6          6.9         2.3  virginica\n",
            "120          6.0         2.2          5.0         1.5  virginica\n",
            "121          6.9         3.2          5.7         2.3  virginica\n",
            "122          5.6         2.8          4.9         2.0  virginica\n",
            "124          6.3         2.7          4.9         1.8  virginica\n",
            "125          6.7         3.3          5.7         2.1  virginica\n",
            "126          7.2         3.2          6.0         1.8  virginica\n",
            "127          6.2         2.8          4.8         1.8  virginica\n",
            "128          6.1         3.0          4.9         1.8  virginica\n",
            "129          6.4         2.8          5.6         2.1  virginica\n",
            "130          7.2         3.0          5.8         1.6  virginica\n",
            "132          7.9         3.8          6.4         2.0  virginica\n",
            "133          6.4         2.8          5.6         2.2  virginica\n",
            "134          6.3         2.8          5.1         1.5  virginica\n",
            "136          7.7         3.0          6.1         2.3  virginica\n",
            "137          6.3         3.4          5.6         2.4  virginica\n",
            "138          6.4         3.1          5.5         1.8  virginica\n",
            "139          6.0         3.0          4.8         1.8  virginica\n",
            "140          6.9         3.1          5.4         2.1  virginica\n",
            "142          6.9         3.1          5.1         2.3  virginica\n",
            "143          5.8         2.7          5.1         1.9  virginica\n",
            "144          6.8         3.2          5.9         2.3  virginica\n",
            "145          6.7         3.3          5.7         2.5  virginica\n",
            "147          6.3         2.5          5.0         1.9  virginica\n",
            "148          6.5         3.0          5.2         2.0  virginica\n",
            "150          5.9         3.0          5.1         1.8  virginica\n",
            "[1] 30  5\n",
            "[1] 120   5\n"
          ]
        }
      ]
    },
    {
      "cell_type": "code",
      "source": [
        "%%R\n",
        "mytable<-table(train_data[,5])\n",
        "print(mytable)\n",
        "barplot(mytable,col=c(\"red\",\"orange\",\"yellow\"),main=(\"Species\"))\n",
        "\n",
        "\n",
        "\n",
        "\n",
        "\n",
        "\n"
      ],
      "metadata": {
        "id": "ZhtGp2KM0oM1",
        "colab": {
          "base_uri": "https://localhost:8080/",
          "height": 549
        },
        "outputId": "b580531d-d669-4f17-ff61-7e04d47fc3a7"
      },
      "execution_count": 29,
      "outputs": [
        {
          "output_type": "stream",
          "name": "stdout",
          "text": [
            "\n",
            "    setosa versicolor  virginica \n",
            "        40         40         40 \n"
          ]
        },
        {
          "output_type": "display_data",
          "data": {
            "image/png": "[encoded data removed]"
          },
          "metadata": {}
        }
      ]
    },
    {
      "cell_type": "code",
      "source": [
        "%%R\n",
        "train_data\n"
      ],
      "metadata": {
        "colab": {
          "base_uri": "https://localhost:8080/"
        },
        "id": "fSfv3RO5t9oV",
        "outputId": "2258bf3a-8e35-4209-841a-97f74db2aafa"
      },
      "execution_count": 30,
      "outputs": [
        {
          "output_type": "stream",
          "name": "stdout",
          "text": [
            "    Sepal.Length Sepal.Width Petal.Length Petal.Width    Species\n",
            "2            4.9         3.0          1.4         0.2     setosa\n",
            "3            4.7         3.2          1.3         0.2     setosa\n",
            "4            4.6         3.1          1.5         0.2     setosa\n",
            "5            5.0         3.6          1.4         0.2     setosa\n",
            "6            5.4         3.9          1.7         0.4     setosa\n",
            "7            4.6         3.4          1.4         0.3     setosa\n",
            "8            5.0         3.4          1.5         0.2     setosa\n",
            "9            4.4         2.9          1.4         0.2     setosa\n",
            "10           4.9         3.1          1.5         0.1     setosa\n",
            "11           5.4         3.7          1.5         0.2     setosa\n",
            "12           4.8         3.4          1.6         0.2     setosa\n",
            "16           5.7         4.4          1.5         0.4     setosa\n",
            "18           5.1         3.5          1.4         0.3     setosa\n",
            "19           5.7         3.8          1.7         0.3     setosa\n",
            "20           5.1         3.8          1.5         0.3     setosa\n",
            "21           5.4         3.4          1.7         0.2     setosa\n",
            "22           5.1         3.7          1.5         0.4     setosa\n",
            "23           4.6         3.6          1.0         0.2     setosa\n",
            "24           5.1         3.3          1.7         0.5     setosa\n",
            "25           4.8         3.4          1.9         0.2     setosa\n",
            "26           5.0         3.0          1.6         0.2     setosa\n",
            "29           5.2         3.4          1.4         0.2     setosa\n",
            "30           4.7         3.2          1.6         0.2     setosa\n",
            "31           4.8         3.1          1.6         0.2     setosa\n",
            "33           5.2         4.1          1.5         0.1     setosa\n",
            "34           5.5         4.2          1.4         0.2     setosa\n",
            "35           4.9         3.1          1.5         0.2     setosa\n",
            "36           5.0         3.2          1.2         0.2     setosa\n",
            "37           5.5         3.5          1.3         0.2     setosa\n",
            "38           4.9         3.6          1.4         0.1     setosa\n",
            "39           4.4         3.0          1.3         0.2     setosa\n",
            "41           5.0         3.5          1.3         0.3     setosa\n",
            "42           4.5         2.3          1.3         0.3     setosa\n",
            "43           4.4         3.2          1.3         0.2     setosa\n",
            "45           5.1         3.8          1.9         0.4     setosa\n",
            "46           4.8         3.0          1.4         0.3     setosa\n",
            "47           5.1         3.8          1.6         0.2     setosa\n",
            "48           4.6         3.2          1.4         0.2     setosa\n",
            "49           5.3         3.7          1.5         0.2     setosa\n",
            "50           5.0         3.3          1.4         0.2     setosa\n",
            "51           7.0         3.2          4.7         1.4 versicolor\n",
            "54           5.5         2.3          4.0         1.3 versicolor\n",
            "55           6.5         2.8          4.6         1.5 versicolor\n",
            "57           6.3         3.3          4.7         1.6 versicolor\n",
            "58           4.9         2.4          3.3         1.0 versicolor\n",
            "59           6.6         2.9          4.6         1.3 versicolor\n",
            "61           5.0         2.0          3.5         1.0 versicolor\n",
            "62           5.9         3.0          4.2         1.5 versicolor\n",
            "63           6.0         2.2          4.0         1.0 versicolor\n",
            "64           6.1         2.9          4.7         1.4 versicolor\n",
            "65           5.6         2.9          3.6         1.3 versicolor\n",
            "66           6.7         3.1          4.4         1.4 versicolor\n",
            "67           5.6         3.0          4.5         1.5 versicolor\n",
            "68           5.8         2.7          4.1         1.0 versicolor\n",
            "69           6.2         2.2          4.5         1.5 versicolor\n",
            "70           5.6         2.5          3.9         1.1 versicolor\n",
            "71           5.9         3.2          4.8         1.8 versicolor\n",
            "72           6.1         2.8          4.0         1.3 versicolor\n",
            "73           6.3         2.5          4.9         1.5 versicolor\n",
            "74           6.1         2.8          4.7         1.2 versicolor\n",
            "75           6.4         2.9          4.3         1.3 versicolor\n",
            "76           6.6         3.0          4.4         1.4 versicolor\n",
            "77           6.8         2.8          4.8         1.4 versicolor\n",
            "78           6.7         3.0          5.0         1.7 versicolor\n",
            "79           6.0         2.9          4.5         1.5 versicolor\n",
            "80           5.7         2.6          3.5         1.0 versicolor\n",
            "82           5.5         2.4          3.7         1.0 versicolor\n",
            "84           6.0         2.7          5.1         1.6 versicolor\n",
            "85           5.4         3.0          4.5         1.5 versicolor\n",
            "86           6.0         3.4          4.5         1.6 versicolor\n",
            "87           6.7         3.1          4.7         1.5 versicolor\n",
            "88           6.3         2.3          4.4         1.3 versicolor\n",
            "89           5.6         3.0          4.1         1.3 versicolor\n",
            "90           5.5         2.5          4.0         1.3 versicolor\n",
            "94           5.0         2.3          3.3         1.0 versicolor\n",
            "95           5.6         2.7          4.2         1.3 versicolor\n",
            "96           5.7         3.0          4.2         1.2 versicolor\n",
            "97           5.7         2.9          4.2         1.3 versicolor\n",
            "99           5.1         2.5          3.0         1.1 versicolor\n",
            "100          5.7         2.8          4.1         1.3 versicolor\n",
            "102          5.8         2.7          5.1         1.9  virginica\n",
            "103          7.1         3.0          5.9         2.1  virginica\n",
            "104          6.3         2.9          5.6         1.8  virginica\n",
            "105          6.5         3.0          5.8         2.2  virginica\n",
            "107          4.9         2.5          4.5         1.7  virginica\n",
            "108          7.3         2.9          6.3         1.8  virginica\n",
            "109          6.7         2.5          5.8         1.8  virginica\n",
            "110          7.2         3.6          6.1         2.5  virginica\n",
            "112          6.4         2.7          5.3         1.9  virginica\n",
            "113          6.8         3.0          5.5         2.1  virginica\n",
            "115          5.8         2.8          5.1         2.4  virginica\n",
            "116          6.4         3.2          5.3         2.3  virginica\n",
            "117          6.5         3.0          5.5         1.8  virginica\n",
            "118          7.7         3.8          6.7         2.2  virginica\n",
            "119          7.7         2.6          6.9         2.3  virginica\n",
            "120          6.0         2.2          5.0         1.5  virginica\n",
            "121          6.9         3.2          5.7         2.3  virginica\n",
            "122          5.6         2.8          4.9         2.0  virginica\n",
            "124          6.3         2.7          4.9         1.8  virginica\n",
            "125          6.7         3.3          5.7         2.1  virginica\n",
            "126          7.2         3.2          6.0         1.8  virginica\n",
            "127          6.2         2.8          4.8         1.8  virginica\n",
            "128          6.1         3.0          4.9         1.8  virginica\n",
            "129          6.4         2.8          5.6         2.1  virginica\n",
            "130          7.2         3.0          5.8         1.6  virginica\n",
            "132          7.9         3.8          6.4         2.0  virginica\n",
            "133          6.4         2.8          5.6         2.2  virginica\n",
            "134          6.3         2.8          5.1         1.5  virginica\n",
            "136          7.7         3.0          6.1         2.3  virginica\n",
            "137          6.3         3.4          5.6         2.4  virginica\n",
            "138          6.4         3.1          5.5         1.8  virginica\n",
            "139          6.0         3.0          4.8         1.8  virginica\n",
            "140          6.9         3.1          5.4         2.1  virginica\n",
            "142          6.9         3.1          5.1         2.3  virginica\n",
            "143          5.8         2.7          5.1         1.9  virginica\n",
            "144          6.8         3.2          5.9         2.3  virginica\n",
            "145          6.7         3.3          5.7         2.5  virginica\n",
            "147          6.3         2.5          5.0         1.9  virginica\n",
            "148          6.5         3.0          5.2         2.0  virginica\n",
            "150          5.9         3.0          5.1         1.8  virginica\n"
          ]
        }
      ]
    },
    {
      "cell_type": "code",
      "source": [
        "%%R\n",
        "control<-trainControl(method=\"cv\",number=10)\n",
        "metric<-\"Accuracy\"\n",
        "set.seed(7)\n",
        "fit.knn<-train(train_data[,1:4],train_data[,5],method=\"knn\",metric=metric,trControl=control)"
      ],
      "metadata": {
        "id": "tZrPglj7uEyA"
      },
      "execution_count": 34,
      "outputs": []
    },
    {
      "cell_type": "code",
      "source": [
        "%%R\n",
        "print(fit.knn)"
      ],
      "metadata": {
        "id": "n-CrMboJwLAk",
        "colab": {
          "base_uri": "https://localhost:8080/"
        },
        "outputId": "a0d304a7-486c-4fe5-e593-5f474bdf33ec"
      },
      "execution_count": 35,
      "outputs": [
        {
          "output_type": "stream",
          "name": "stdout",
          "text": [
            "k-Nearest Neighbors \n",
            "\n",
            "120 samples\n",
            "  4 predictor\n",
            "  3 classes: 'setosa', 'versicolor', 'virginica' \n",
            "\n",
            "No pre-processing\n",
            "Resampling: Cross-Validated (10 fold) \n",
            "Summary of sample sizes: 108, 108, 108, 108, 108, 108, ... \n",
            "Resampling results across tuning parameters:\n",
            "\n",
            "  k  Accuracy   Kappa \n",
            "  5  0.9500000  0.9250\n",
            "  7  0.9583333  0.9375\n",
            "  9  0.9750000  0.9625\n",
            "\n",
            "Accuracy was used to select the optimal model using the largest value.\n",
            "The final value used for the model was k = 9.\n"
          ]
        }
      ]
    },
    {
      "cell_type": "code",
      "source": [
        "%%R\n",
        "test_data[,1:4]"
      ],
      "metadata": {
        "colab": {
          "base_uri": "https://localhost:8080/"
        },
        "id": "-CY6Px2txdUV",
        "outputId": "e3a8dc97-b8d8-4766-8c16-e8bd16b17445"
      },
      "execution_count": 39,
      "outputs": [
        {
          "output_type": "stream",
          "name": "stdout",
          "text": [
            "    Sepal.Length Sepal.Width Petal.Length Petal.Width\n",
            "1            5.1         3.5          1.4         0.2\n",
            "13           4.8         3.0          1.4         0.1\n",
            "14           4.3         3.0          1.1         0.1\n",
            "15           5.8         4.0          1.2         0.2\n",
            "17           5.4         3.9          1.3         0.4\n",
            "27           5.0         3.4          1.6         0.4\n",
            "28           5.2         3.5          1.5         0.2\n",
            "32           5.4         3.4          1.5         0.4\n",
            "40           5.1         3.4          1.5         0.2\n",
            "44           5.0         3.5          1.6         0.6\n",
            "52           6.4         3.2          4.5         1.5\n",
            "53           6.9         3.1          4.9         1.5\n",
            "56           5.7         2.8          4.5         1.3\n",
            "60           5.2         2.7          3.9         1.4\n",
            "81           5.5         2.4          3.8         1.1\n",
            "83           5.8         2.7          3.9         1.2\n",
            "91           5.5         2.6          4.4         1.2\n",
            "92           6.1         3.0          4.6         1.4\n",
            "93           5.8         2.6          4.0         1.2\n",
            "98           6.2         2.9          4.3         1.3\n",
            "101          6.3         3.3          6.0         2.5\n",
            "106          7.6         3.0          6.6         2.1\n",
            "111          6.5         3.2          5.1         2.0\n",
            "114          5.7         2.5          5.0         2.0\n",
            "123          7.7         2.8          6.7         2.0\n",
            "131          7.4         2.8          6.1         1.9\n",
            "135          6.1         2.6          5.6         1.4\n",
            "141          6.7         3.1          5.6         2.4\n",
            "146          6.7         3.0          5.2         2.3\n",
            "149          6.2         3.4          5.4         2.3\n"
          ]
        }
      ]
    },
    {
      "cell_type": "code",
      "source": [
        "%%R\n",
        "predictions<-predict(fit.knn,test_data[,1:4])\n",
        "predictions"
      ],
      "metadata": {
        "colab": {
          "base_uri": "https://localhost:8080/"
        },
        "id": "tsgBM2fpybsL",
        "outputId": "ab33c2f0-90ef-4d3a-d30e-bff5bb42bb60"
      },
      "execution_count": 40,
      "outputs": [
        {
          "output_type": "stream",
          "name": "stdout",
          "text": [
            " [1] setosa     setosa     setosa     setosa     setosa     setosa    \n",
            " [7] setosa     setosa     setosa     setosa     versicolor versicolor\n",
            "[13] versicolor versicolor versicolor versicolor versicolor versicolor\n",
            "[19] versicolor versicolor virginica  virginica  virginica  virginica \n",
            "[25] virginica  virginica  virginica  virginica  virginica  virginica \n",
            "Levels: setosa versicolor virginica\n"
          ]
        }
      ]
    },
    {
      "cell_type": "code",
      "source": [
        ""
      ],
      "metadata": {
        "id": "PUAv2Tn-ys0c"
      },
      "execution_count": null,
      "outputs": []
    }
  ]
}