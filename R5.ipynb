{
  "nbformat": 4,
  "nbformat_minor": 0,
  "metadata": {
    "colab": {
      "name": "R5.ipynb",
      "provenance": [],
      "collapsed_sections": [],
      "authorship_tag": "ABX9TyNYstcY3WV6lgGc7QCB/4BY",
      "include_colab_link": true
    },
    "kernelspec": {
      "name": "python3",
      "display_name": "Python 3"
    },
    "language_info": {
      "name": "python"
    }
  },
  "cells": [
    {
      "cell_type": "markdown",
      "metadata": {
        "id": "view-in-github",
        "colab_type": "text"
      },
      "source": [
        "<a href=\"https://colab.research.google.com/github/ShanmukhRamachandruni/Data-Science/blob/main/R5.ipynb\" target=\"_parent\"><img src=\"https://colab.research.google.com/assets/colab-badge.svg\" alt=\"Open In Colab\"/></a>"
      ]
    },
    {
      "cell_type": "code",
      "execution_count": null,
      "metadata": {
        "id": "-x1CdL9TvU9O",
        "colab": {
          "base_uri": "https://localhost:8080/"
        },
        "outputId": "baa62cac-1d4f-44bb-e34c-7c2b8f3c5b94"
      },
      "outputs": [
        {
          "output_type": "stream",
          "name": "stdout",
          "text": [
            "The rpy2.ipython extension is already loaded. To reload it, use:\n",
            "  %reload_ext rpy2.ipython\n"
          ]
        }
      ],
      "source": [
        "%load_ext rpy2.ipython\n"
      ]
    },
    {
      "cell_type": "code",
      "source": [
        "%%R\n",
        "data(\n",
        "  \"iris\"\n",
        ")"
      ],
      "metadata": {
        "id": "Q-8PIS8Fvl9q"
      },
      "execution_count": null,
      "outputs": []
    },
    {
      "cell_type": "code",
      "source": [
        "%%R\n",
        "head(iris)"
      ],
      "metadata": {
        "colab": {
          "base_uri": "https://localhost:8080/"
        },
        "id": "r9CpSRxqvowk",
        "outputId": "8c6b14bd-0ec3-4802-b704-11940b96b79b"
      },
      "execution_count": null,
      "outputs": [
        {
          "output_type": "stream",
          "name": "stdout",
          "text": [
            "  Sepal.Length Sepal.Width Petal.Length Petal.Width Species\n",
            "1          5.1         3.5          1.4         0.2  setosa\n",
            "2          4.9         3.0          1.4         0.2  setosa\n",
            "3          4.7         3.2          1.3         0.2  setosa\n",
            "4          4.6         3.1          1.5         0.2  setosa\n",
            "5          5.0         3.6          1.4         0.2  setosa\n",
            "6          5.4         3.9          1.7         0.4  setosa\n"
          ]
        }
      ]
    },
    {
      "cell_type": "code",
      "source": [
        "%%R\n",
        "install.packages(\"caret\")"
      ],
      "metadata": {
        "colab": {
          "base_uri": "https://localhost:8080/"
        },
        "id": "IEl4rQSyvsrE",
        "outputId": "87b797e4-d2d5-41db-f7ea-7b3ad9f60526"
      },
      "execution_count": null,
      "outputs": [
        {
          "output_type": "stream",
          "name": "stderr",
          "text": [
            "R[write to console]: Installing package into ‘/usr/local/lib/R/site-library’\n",
            "(as ‘lib’ is unspecified)\n",
            "\n",
            "R[write to console]: trying URL 'https://cran.rstudio.com/src/contrib/caret_6.0-90.tar.gz'\n",
            "\n",
            "R[write to console]: Content type 'application/x-gzip'\n",
            "R[write to console]:  length 2335088 bytes (2.2 MB)\n",
            "\n",
            "R[write to console]: =\n",
            "R[write to console]: =\n",
            "R[write to console]: =\n",
            "R[write to console]: =\n",
            "R[write to console]: =\n",
            "R[write to console]: =\n",
            "R[write to console]: =\n",
            "R[write to console]: =\n",
            "R[write to console]: =\n",
            "R[write to console]: =\n",
            "R[write to console]: =\n",
            "R[write to console]: =\n",
            "R[write to console]: =\n",
            "R[write to console]: =\n",
            "R[write to console]: =\n",
            "R[write to console]: =\n",
            "R[write to console]: =\n",
            "R[write to console]: =\n",
            "R[write to console]: =\n",
            "R[write to console]: =\n",
            "R[write to console]: =\n",
            "R[write to console]: =\n",
            "R[write to console]: =\n",
            "R[write to console]: =\n",
            "R[write to console]: =\n",
            "R[write to console]: =\n",
            "R[write to console]: =\n",
            "R[write to console]: =\n",
            "R[write to console]: =\n",
            "R[write to console]: =\n",
            "R[write to console]: =\n",
            "R[write to console]: =\n",
            "R[write to console]: =\n",
            "R[write to console]: =\n",
            "R[write to console]: =\n",
            "R[write to console]: =\n",
            "R[write to console]: =\n",
            "R[write to console]: =\n",
            "R[write to console]: =\n",
            "R[write to console]: =\n",
            "R[write to console]: =\n",
            "R[write to console]: =\n",
            "R[write to console]: =\n",
            "R[write to console]: =\n",
            "R[write to console]: =\n",
            "R[write to console]: =\n",
            "R[write to console]: =\n",
            "R[write to console]: =\n",
            "R[write to console]: =\n",
            "R[write to console]: =\n",
            "R[write to console]: \n",
            "\n",
            "R[write to console]: downloaded 2.2 MB\n",
            "\n",
            "\n",
            "R[write to console]: \n",
            "\n",
            "R[write to console]: \n",
            "R[write to console]: The downloaded source packages are in\n",
            "\t‘/tmp/RtmpUMDaSy/downloaded_packages’\n",
            "R[write to console]: \n",
            "R[write to console]: \n",
            "\n"
          ]
        }
      ]
    },
    {
      "cell_type": "code",
      "source": [
        "%%R\n",
        "library(caret)\n",
        "data_split<-createDataPartition(iris$Species,p=0.8,list=FALSE)\n"
      ],
      "metadata": {
        "id": "0TcZwa0hwe1I"
      },
      "execution_count": null,
      "outputs": []
    },
    {
      "cell_type": "code",
      "source": [
        "%%R\n",
        "print(dim(data_split))\n",
        "print(class(data_split))\n",
        "print(data_split)"
      ],
      "metadata": {
        "colab": {
          "base_uri": "https://localhost:8080/"
        },
        "id": "nePjwKcrzEfN",
        "outputId": "d91f56e3-01cd-4b52-d6b2-691e0d9148a0"
      },
      "execution_count": null,
      "outputs": [
        {
          "output_type": "stream",
          "name": "stdout",
          "text": [
            "[1] 120   1\n",
            "[1] \"matrix\" \"array\" \n",
            "       Resample1\n",
            "  [1,]         1\n",
            "  [2,]         2\n",
            "  [3,]         4\n",
            "  [4,]         6\n",
            "  [5,]         7\n",
            "  [6,]         8\n",
            "  [7,]         9\n",
            "  [8,]        10\n",
            "  [9,]        11\n",
            " [10,]        12\n",
            " [11,]        13\n",
            " [12,]        14\n",
            " [13,]        15\n",
            " [14,]        16\n",
            " [15,]        17\n",
            " [16,]        18\n",
            " [17,]        19\n",
            " [18,]        20\n",
            " [19,]        21\n",
            " [20,]        22\n",
            " [21,]        23\n",
            " [22,]        24\n",
            " [23,]        25\n",
            " [24,]        26\n",
            " [25,]        28\n",
            " [26,]        29\n",
            " [27,]        30\n",
            " [28,]        32\n",
            " [29,]        33\n",
            " [30,]        36\n",
            " [31,]        37\n",
            " [32,]        38\n",
            " [33,]        39\n",
            " [34,]        40\n",
            " [35,]        43\n",
            " [36,]        44\n",
            " [37,]        45\n",
            " [38,]        46\n",
            " [39,]        48\n",
            " [40,]        50\n",
            " [41,]        51\n",
            " [42,]        52\n",
            " [43,]        53\n",
            " [44,]        55\n",
            " [45,]        56\n",
            " [46,]        58\n",
            " [47,]        59\n",
            " [48,]        60\n",
            " [49,]        61\n",
            " [50,]        64\n",
            " [51,]        65\n",
            " [52,]        66\n",
            " [53,]        67\n",
            " [54,]        68\n",
            " [55,]        69\n",
            " [56,]        70\n",
            " [57,]        71\n",
            " [58,]        72\n",
            " [59,]        73\n",
            " [60,]        74\n",
            " [61,]        75\n",
            " [62,]        76\n",
            " [63,]        79\n",
            " [64,]        80\n",
            " [65,]        81\n",
            " [66,]        82\n",
            " [67,]        83\n",
            " [68,]        84\n",
            " [69,]        85\n",
            " [70,]        86\n",
            " [71,]        87\n",
            " [72,]        89\n",
            " [73,]        90\n",
            " [74,]        91\n",
            " [75,]        92\n",
            " [76,]        93\n",
            " [77,]        95\n",
            " [78,]        97\n",
            " [79,]        98\n",
            " [80,]        99\n",
            " [81,]       101\n",
            " [82,]       102\n",
            " [83,]       103\n",
            " [84,]       104\n",
            " [85,]       105\n",
            " [86,]       106\n",
            " [87,]       107\n",
            " [88,]       108\n",
            " [89,]       109\n",
            " [90,]       110\n",
            " [91,]       112\n",
            " [92,]       113\n",
            " [93,]       114\n",
            " [94,]       115\n",
            " [95,]       117\n",
            " [96,]       119\n",
            " [97,]       122\n",
            " [98,]       123\n",
            " [99,]       126\n",
            "[100,]       127\n",
            "[101,]       128\n",
            "[102,]       129\n",
            "[103,]       130\n",
            "[104,]       131\n",
            "[105,]       132\n",
            "[106,]       133\n",
            "[107,]       134\n",
            "[108,]       135\n",
            "[109,]       136\n",
            "[110,]       137\n",
            "[111,]       138\n",
            "[112,]       139\n",
            "[113,]       141\n",
            "[114,]       142\n",
            "[115,]       144\n",
            "[116,]       145\n",
            "[117,]       146\n",
            "[118,]       147\n",
            "[119,]       149\n",
            "[120,]       150\n"
          ]
        }
      ]
    },
    {
      "cell_type": "code",
      "source": [
        "%%R\n",
        "test_data<-iris[-data_split,]\n",
        "train_data<-iris[data_split,]\n",
        "print(test_data)\n",
        "print(train_data)\n",
        "print(dim(test_data))\n",
        "print(dim(train_data))"
      ],
      "metadata": {
        "colab": {
          "base_uri": "https://localhost:8080/"
        },
        "id": "XbpKP2VMzbWA",
        "outputId": "6427561f-368d-42d0-dc8e-1f5e170b6ee7"
      },
      "execution_count": null,
      "outputs": [
        {
          "output_type": "stream",
          "name": "stdout",
          "text": [
            "    Sepal.Length Sepal.Width Petal.Length Petal.Width    Species\n",
            "3            4.7         3.2          1.3         0.2     setosa\n",
            "5            5.0         3.6          1.4         0.2     setosa\n",
            "27           5.0         3.4          1.6         0.4     setosa\n",
            "31           4.8         3.1          1.6         0.2     setosa\n",
            "34           5.5         4.2          1.4         0.2     setosa\n",
            "35           4.9         3.1          1.5         0.2     setosa\n",
            "41           5.0         3.5          1.3         0.3     setosa\n",
            "42           4.5         2.3          1.3         0.3     setosa\n",
            "47           5.1         3.8          1.6         0.2     setosa\n",
            "49           5.3         3.7          1.5         0.2     setosa\n",
            "54           5.5         2.3          4.0         1.3 versicolor\n",
            "57           6.3         3.3          4.7         1.6 versicolor\n",
            "62           5.9         3.0          4.2         1.5 versicolor\n",
            "63           6.0         2.2          4.0         1.0 versicolor\n",
            "77           6.8         2.8          4.8         1.4 versicolor\n",
            "78           6.7         3.0          5.0         1.7 versicolor\n",
            "88           6.3         2.3          4.4         1.3 versicolor\n",
            "94           5.0         2.3          3.3         1.0 versicolor\n",
            "96           5.7         3.0          4.2         1.2 versicolor\n",
            "100          5.7         2.8          4.1         1.3 versicolor\n",
            "111          6.5         3.2          5.1         2.0  virginica\n",
            "116          6.4         3.2          5.3         2.3  virginica\n",
            "118          7.7         3.8          6.7         2.2  virginica\n",
            "120          6.0         2.2          5.0         1.5  virginica\n",
            "121          6.9         3.2          5.7         2.3  virginica\n",
            "124          6.3         2.7          4.9         1.8  virginica\n",
            "125          6.7         3.3          5.7         2.1  virginica\n",
            "140          6.9         3.1          5.4         2.1  virginica\n",
            "143          5.8         2.7          5.1         1.9  virginica\n",
            "148          6.5         3.0          5.2         2.0  virginica\n",
            "    Sepal.Length Sepal.Width Petal.Length Petal.Width    Species\n",
            "1            5.1         3.5          1.4         0.2     setosa\n",
            "2            4.9         3.0          1.4         0.2     setosa\n",
            "4            4.6         3.1          1.5         0.2     setosa\n",
            "6            5.4         3.9          1.7         0.4     setosa\n",
            "7            4.6         3.4          1.4         0.3     setosa\n",
            "8            5.0         3.4          1.5         0.2     setosa\n",
            "9            4.4         2.9          1.4         0.2     setosa\n",
            "10           4.9         3.1          1.5         0.1     setosa\n",
            "11           5.4         3.7          1.5         0.2     setosa\n",
            "12           4.8         3.4          1.6         0.2     setosa\n",
            "13           4.8         3.0          1.4         0.1     setosa\n",
            "14           4.3         3.0          1.1         0.1     setosa\n",
            "15           5.8         4.0          1.2         0.2     setosa\n",
            "16           5.7         4.4          1.5         0.4     setosa\n",
            "17           5.4         3.9          1.3         0.4     setosa\n",
            "18           5.1         3.5          1.4         0.3     setosa\n",
            "19           5.7         3.8          1.7         0.3     setosa\n",
            "20           5.1         3.8          1.5         0.3     setosa\n",
            "21           5.4         3.4          1.7         0.2     setosa\n",
            "22           5.1         3.7          1.5         0.4     setosa\n",
            "23           4.6         3.6          1.0         0.2     setosa\n",
            "24           5.1         3.3          1.7         0.5     setosa\n",
            "25           4.8         3.4          1.9         0.2     setosa\n",
            "26           5.0         3.0          1.6         0.2     setosa\n",
            "28           5.2         3.5          1.5         0.2     setosa\n",
            "29           5.2         3.4          1.4         0.2     setosa\n",
            "30           4.7         3.2          1.6         0.2     setosa\n",
            "32           5.4         3.4          1.5         0.4     setosa\n",
            "33           5.2         4.1          1.5         0.1     setosa\n",
            "36           5.0         3.2          1.2         0.2     setosa\n",
            "37           5.5         3.5          1.3         0.2     setosa\n",
            "38           4.9         3.6          1.4         0.1     setosa\n",
            "39           4.4         3.0          1.3         0.2     setosa\n",
            "40           5.1         3.4          1.5         0.2     setosa\n",
            "43           4.4         3.2          1.3         0.2     setosa\n",
            "44           5.0         3.5          1.6         0.6     setosa\n",
            "45           5.1         3.8          1.9         0.4     setosa\n",
            "46           4.8         3.0          1.4         0.3     setosa\n",
            "48           4.6         3.2          1.4         0.2     setosa\n",
            "50           5.0         3.3          1.4         0.2     setosa\n",
            "51           7.0         3.2          4.7         1.4 versicolor\n",
            "52           6.4         3.2          4.5         1.5 versicolor\n",
            "53           6.9         3.1          4.9         1.5 versicolor\n",
            "55           6.5         2.8          4.6         1.5 versicolor\n",
            "56           5.7         2.8          4.5         1.3 versicolor\n",
            "58           4.9         2.4          3.3         1.0 versicolor\n",
            "59           6.6         2.9          4.6         1.3 versicolor\n",
            "60           5.2         2.7          3.9         1.4 versicolor\n",
            "61           5.0         2.0          3.5         1.0 versicolor\n",
            "64           6.1         2.9          4.7         1.4 versicolor\n",
            "65           5.6         2.9          3.6         1.3 versicolor\n",
            "66           6.7         3.1          4.4         1.4 versicolor\n",
            "67           5.6         3.0          4.5         1.5 versicolor\n",
            "68           5.8         2.7          4.1         1.0 versicolor\n",
            "69           6.2         2.2          4.5         1.5 versicolor\n",
            "70           5.6         2.5          3.9         1.1 versicolor\n",
            "71           5.9         3.2          4.8         1.8 versicolor\n",
            "72           6.1         2.8          4.0         1.3 versicolor\n",
            "73           6.3         2.5          4.9         1.5 versicolor\n",
            "74           6.1         2.8          4.7         1.2 versicolor\n",
            "75           6.4         2.9          4.3         1.3 versicolor\n",
            "76           6.6         3.0          4.4         1.4 versicolor\n",
            "79           6.0         2.9          4.5         1.5 versicolor\n",
            "80           5.7         2.6          3.5         1.0 versicolor\n",
            "81           5.5         2.4          3.8         1.1 versicolor\n",
            "82           5.5         2.4          3.7         1.0 versicolor\n",
            "83           5.8         2.7          3.9         1.2 versicolor\n",
            "84           6.0         2.7          5.1         1.6 versicolor\n",
            "85           5.4         3.0          4.5         1.5 versicolor\n",
            "86           6.0         3.4          4.5         1.6 versicolor\n",
            "87           6.7         3.1          4.7         1.5 versicolor\n",
            "89           5.6         3.0          4.1         1.3 versicolor\n",
            "90           5.5         2.5          4.0         1.3 versicolor\n",
            "91           5.5         2.6          4.4         1.2 versicolor\n",
            "92           6.1         3.0          4.6         1.4 versicolor\n",
            "93           5.8         2.6          4.0         1.2 versicolor\n",
            "95           5.6         2.7          4.2         1.3 versicolor\n",
            "97           5.7         2.9          4.2         1.3 versicolor\n",
            "98           6.2         2.9          4.3         1.3 versicolor\n",
            "99           5.1         2.5          3.0         1.1 versicolor\n",
            "101          6.3         3.3          6.0         2.5  virginica\n",
            "102          5.8         2.7          5.1         1.9  virginica\n",
            "103          7.1         3.0          5.9         2.1  virginica\n",
            "104          6.3         2.9          5.6         1.8  virginica\n",
            "105          6.5         3.0          5.8         2.2  virginica\n",
            "106          7.6         3.0          6.6         2.1  virginica\n",
            "107          4.9         2.5          4.5         1.7  virginica\n",
            "108          7.3         2.9          6.3         1.8  virginica\n",
            "109          6.7         2.5          5.8         1.8  virginica\n",
            "110          7.2         3.6          6.1         2.5  virginica\n",
            "112          6.4         2.7          5.3         1.9  virginica\n",
            "113          6.8         3.0          5.5         2.1  virginica\n",
            "114          5.7         2.5          5.0         2.0  virginica\n",
            "115          5.8         2.8          5.1         2.4  virginica\n",
            "117          6.5         3.0          5.5         1.8  virginica\n",
            "119          7.7         2.6          6.9         2.3  virginica\n",
            "122          5.6         2.8          4.9         2.0  virginica\n",
            "123          7.7         2.8          6.7         2.0  virginica\n",
            "126          7.2         3.2          6.0         1.8  virginica\n",
            "127          6.2         2.8          4.8         1.8  virginica\n",
            "128          6.1         3.0          4.9         1.8  virginica\n",
            "129          6.4         2.8          5.6         2.1  virginica\n",
            "130          7.2         3.0          5.8         1.6  virginica\n",
            "131          7.4         2.8          6.1         1.9  virginica\n",
            "132          7.9         3.8          6.4         2.0  virginica\n",
            "133          6.4         2.8          5.6         2.2  virginica\n",
            "134          6.3         2.8          5.1         1.5  virginica\n",
            "135          6.1         2.6          5.6         1.4  virginica\n",
            "136          7.7         3.0          6.1         2.3  virginica\n",
            "137          6.3         3.4          5.6         2.4  virginica\n",
            "138          6.4         3.1          5.5         1.8  virginica\n",
            "139          6.0         3.0          4.8         1.8  virginica\n",
            "141          6.7         3.1          5.6         2.4  virginica\n",
            "142          6.9         3.1          5.1         2.3  virginica\n",
            "144          6.8         3.2          5.9         2.3  virginica\n",
            "145          6.7         3.3          5.7         2.5  virginica\n",
            "146          6.7         3.0          5.2         2.3  virginica\n",
            "147          6.3         2.5          5.0         1.9  virginica\n",
            "149          6.2         3.4          5.4         2.3  virginica\n",
            "150          5.9         3.0          5.1         1.8  virginica\n",
            "[1] 30  5\n",
            "[1] 120   5\n"
          ]
        }
      ]
    },
    {
      "cell_type": "code",
      "source": [
        "%%R\n",
        "mytable<-table(train_data,5)\n",
        "\n",
        "\n",
        "\n",
        "\n",
        "\n"
      ],
      "metadata": {
        "id": "ZhtGp2KM0oM1"
      },
      "execution_count": null,
      "outputs": []
    },
    {
      "cell_type": "code",
      "source": [
        ""
      ],
      "metadata": {
        "id": "n-CrMboJwLAk"
      },
      "execution_count": null,
      "outputs": []
    }
  ]
}